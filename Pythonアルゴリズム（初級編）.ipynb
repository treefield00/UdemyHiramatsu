{
  "nbformat": 4,
  "nbformat_minor": 0,
  "metadata": {
    "colab": {
      "provenance": [],
      "toc_visible": true,
      "include_colab_link": true
    },
    "kernelspec": {
      "name": "python3",
      "display_name": "Python 3"
    }
  },
  "cells": [
    {
      "cell_type": "markdown",
      "metadata": {
        "id": "view-in-github",
        "colab_type": "text"
      },
      "source": [
        "<a href=\"https://colab.research.google.com/github/treefield00/UdemyHiramatsu/blob/main/Python%E3%82%A2%E3%83%AB%E3%82%B4%E3%83%AA%E3%82%BA%E3%83%A0%EF%BC%88%E5%88%9D%E7%B4%9A%E7%B7%A8%EF%BC%89.ipynb\" target=\"_parent\"><img src=\"https://colab.research.google.com/assets/colab-badge.svg\" alt=\"Open In Colab\"/></a>"
      ]
    },
    {
      "cell_type": "markdown",
      "metadata": {
        "id": "h93ooxUn9Us_"
      },
      "source": [
        "# アルゴリズム・データ構造とは？"
      ]
    },
    {
      "cell_type": "markdown",
      "metadata": {
        "id": "M_1B0GWH-pU8"
      },
      "source": [
        "## 定義（アルゴリズム）"
      ]
    },
    {
      "cell_type": "markdown",
      "metadata": {
        "id": "pQfZsK0p9Y0y"
      },
      "source": [
        "「**問題を解くための手順**」のこと"
      ]
    },
    {
      "cell_type": "markdown",
      "metadata": {
        "id": "PagQ0Qx-CHLW"
      },
      "source": [
        "例：にんじん１本から、星型のにんじんの輪切りを１０個作る"
      ]
    },
    {
      "cell_type": "markdown",
      "metadata": {
        "id": "QBsqbEszCHIJ"
      },
      "source": [
        "**アルゴリズム①**\n",
        "\n",
        "まず輪切りを１０個作った上で、それぞれの輪切りに星型の切込みを入れていく\n",
        "\n",
        "包丁の回数　９＋１０ × １０ ＝ １０９回"
      ]
    },
    {
      "cell_type": "markdown",
      "metadata": {
        "id": "tEextPmSE8Nf"
      },
      "source": [
        "**アルゴリズム②**\n",
        "\n",
        "人参を星型の角柱にしたあとで、１０個の輪切りにする\n",
        "\n",
        "包丁の回数　１０＋９ ＝ １９回"
      ]
    },
    {
      "cell_type": "markdown",
      "metadata": {
        "id": "kHz4v6Y5FP4I"
      },
      "source": [
        "同じ問題でも手順が違えば、手間が何倍も変わる\n",
        "\n",
        "→　**問題の性質によって、最適なアルゴリズムを選択する必要がある**"
      ]
    },
    {
      "cell_type": "markdown",
      "metadata": {
        "id": "VzMfkjB9Fn5h"
      },
      "source": [
        "## 定義（データ構造）"
      ]
    },
    {
      "cell_type": "markdown",
      "metadata": {
        "id": "nBs_ZHgrgO7W"
      },
      "source": [
        "**データの集合の①格納規則と②操作方法を決定するもの**"
      ]
    },
    {
      "cell_type": "markdown",
      "metadata": {
        "id": "-zh-3K9Sgeqx"
      },
      "source": [
        "例：顧客データの管理のデータ構造による違い"
      ]
    },
    {
      "cell_type": "markdown",
      "metadata": {
        "id": "zIw16mIJM_zd"
      },
      "source": [
        "同じデータでも管理方法によって、扱いやすさが変わる\n",
        "\n",
        "→　**データの利用目的によって、最適なデータ構造を選択する必要がある**"
      ]
    },
    {
      "cell_type": "markdown",
      "metadata": {
        "id": "NdE335cCANzg"
      },
      "source": [
        "## どのように学んでいくか？"
      ]
    },
    {
      "cell_type": "markdown",
      "metadata": {
        "id": "LshMptFwATOY"
      },
      "source": [
        "アルゴリズムの基本中の基本である「**ソート**」がテーマ\n",
        "\n",
        "**ソート**　→　データの集合を並べ替えるタスク"
      ]
    },
    {
      "cell_type": "markdown",
      "metadata": {
        "id": "B96oNywkA9nE"
      },
      "source": [
        "ソートについて学ぶ中で、アルゴリズムとデータ構造の基礎的な概念を学んでいく\n",
        "\n",
        "内容の一例：擬似コード、O表記法、ソートの安定性、分割統治法、動的計画法、など"
      ]
    },
    {
      "cell_type": "markdown",
      "metadata": {
        "id": "5lvODXmdBh-m"
      },
      "source": [
        "演習問題もたくさん用意してます\n",
        "\n",
        "概念と実装面の両方から理解しましょう"
      ]
    },
    {
      "cell_type": "markdown",
      "metadata": {
        "id": "pkAK1Ac5Ce2n"
      },
      "source": [
        "# アルゴリズムの表現方法"
      ]
    },
    {
      "cell_type": "markdown",
      "metadata": {
        "id": "Qb7tWZyXCsKv"
      },
      "source": [
        "## 疑似コードとは？"
      ]
    },
    {
      "cell_type": "markdown",
      "metadata": {
        "id": "hwCszJQxFlSP"
      },
      "source": [
        "**アルゴリズムを自然言語などによって表現したもの**"
      ]
    },
    {
      "cell_type": "markdown",
      "metadata": {
        "id": "r_7ci4kGL5PC"
      },
      "source": [
        "例：Pythonのプログラムを擬似コードで表現した場合"
      ]
    },
    {
      "cell_type": "code",
      "metadata": {
        "id": "EWJeydv8MxiE"
      },
      "source": [
        "#Pythonで書いた場合\n",
        "if a > b:\n",
        "  print(\"aはbより大きいです\")\n",
        "elif a == b:\n",
        "  print(\"aとbは等しいです\")\n",
        "else:\n",
        "  print(\"aはbより小さいいです\")"
      ],
      "execution_count": null,
      "outputs": []
    },
    {
      "cell_type": "code",
      "metadata": {
        "id": "FO0v_41VM-03"
      },
      "source": [
        "#擬似コードで書いた場合\n",
        "\n",
        "もしa＞bなら「aはbより大きいです」と出力\n",
        "もしa==bなら「aとbは等しいです」と出力\n",
        "どちらでもなければ「aはbより小さいいです」と出力"
      ],
      "execution_count": null,
      "outputs": []
    },
    {
      "cell_type": "markdown",
      "metadata": {
        "id": "6GjXyyHqm248"
      },
      "source": [
        "この講座では疑似コードを「**解決までの手順を日本語で箇条書きにしたもの**」として扱う"
      ]
    },
    {
      "cell_type": "markdown",
      "metadata": {
        "id": "78-iKxexGb0b"
      },
      "source": [
        "プログラムを書くときは、以下の手順で考えると取り組みやすい\n",
        "\n",
        "①疑似コードで問題の解決方法を考える\n",
        "\n",
        "②プログラミング言語で疑似コードを表現する方法を考える"
      ]
    },
    {
      "cell_type": "markdown",
      "metadata": {
        "id": "aYIukVsvH75R"
      },
      "source": [
        "疑似コードを書く時の注意点として、\n",
        "\n",
        "**プログラミングの基本3構造（逐次実行・条件分岐・繰り返し）を特に意識して書く**のがコツ\n",
        "\n",
        "→　手順の「正確さ・詳細さ」に直結するので"
      ]
    },
    {
      "cell_type": "markdown",
      "metadata": {
        "id": "xWp58uDBFSPw"
      },
      "source": [
        "## 計算量とは？"
      ]
    },
    {
      "cell_type": "markdown",
      "metadata": {
        "id": "ct_EZDaLP0oH"
      },
      "source": [
        "一つ問題があれば、問題の解き方であるアルゴリズムは複数ある\n",
        "\n",
        "複数のアルゴリズムの中で、**どれが最も優れたアルゴリズムなのかを判断**する必要がある\n",
        "\n",
        "アルゴリズムの評価の「ものさし」となるのが、**計算量**である"
      ]
    },
    {
      "cell_type": "markdown",
      "metadata": {
        "id": "untFXfIDM2Rr"
      },
      "source": [
        "計算量には、**時間計算量**と**領域計算量**の2種類がある\n",
        "\n",
        "**①時間計算量**\n",
        "\n",
        "プログラムを実行したときの**計算にかかる時間**を評価した尺度\n",
        "\n",
        "**②領域計算量**\n",
        "\n",
        "プログラムを実行したときの計算に**必要なメモリ内の記憶領域**を評価した尺度"
      ]
    },
    {
      "cell_type": "markdown",
      "metadata": {
        "id": "ctU7qK9pM9fz"
      },
      "source": [
        "領域計算量よりも、時間計算量が問題になることが多い\n",
        "\n",
        "この講座では計算量といえば基本的に時間計算量を指すものとする"
      ]
    },
    {
      "cell_type": "markdown",
      "metadata": {
        "id": "kE60OWZtHqz3"
      },
      "source": [
        "時間計算量と言っても、実行するハードウェアの性能にも計算時間は異なるため、\n",
        "\n",
        "「このアルゴリズムの計算量は、〇分✖秒です」というように表現することはできない\n",
        "\n",
        "→　**O表記法（O記法）**を使って表現する"
      ]
    },
    {
      "cell_type": "markdown",
      "metadata": {
        "id": "QpBH3zDbFmf1"
      },
      "source": [
        "## O表記法（O記法）とは？"
      ]
    },
    {
      "cell_type": "markdown",
      "metadata": {
        "id": "_hoyJh4hVFcW"
      },
      "source": [
        "**計算にかかる時間を入力データ数（サイズ）との関係によって表現したもの**\n",
        "\n",
        "$O(n)$や$O(n^2)$というように表現する\n",
        "\n",
        "$O(n)$　→　入力データサイズと計算量が比例\n",
        "\n",
        "$O(n^2)$　→　入力データサイズの二乗に計算量が比例\n",
        "\n",
        "$O(n)$のとき、「**オーダーがnである**」というように表現する"
      ]
    },
    {
      "cell_type": "markdown",
      "metadata": {
        "id": "ViD6gJ4SX1rZ"
      },
      "source": [
        "$O(n)$と$O(n^2)$の2つのアルゴリズムを比較する\n",
        "\n",
        "データ数が1000倍になると\n",
        "\n",
        "$O(n)$　　→　計算量は1000倍\n",
        "\n",
        "$O(n^2)$　→　計算量は1000000倍（1000^2倍）\n",
        "\n",
        "$O(n^2)$よりも$O(n)$のほうが**データ数の増加に強い、効率がよいアルゴリズムである**といえる"
      ]
    },
    {
      "cell_type": "markdown",
      "metadata": {
        "id": "R91RRwd3bLCS"
      },
      "source": [
        "データサイズが同じでも、**データの内容によって計算量が異なる**アルゴリズムも多い\n",
        "\n",
        "例：100個の数字が一列に並んでいる中から、とある数字を探す問題\n",
        "\n",
        "探したい数字を先頭から末尾へ順番に探していくアルゴリズムの場合\n",
        "\n",
        "先頭に探したい数字があったときと、末尾に探したい数字があったときで、\n",
        "\n",
        "データのサイズはどちらも100個の数字であるにも関わらず、かかる時間が全然違う"
      ]
    },
    {
      "cell_type": "markdown",
      "metadata": {
        "id": "Rzl0XFrlOsYu"
      },
      "source": [
        "なので、計算量には**最善・最悪・平均**の計算量が考えられる\n",
        "\n",
        "①平均の計算量が最悪の場合と同等になることが多い\n",
        "\n",
        "②最悪の計算量を見積もれればそれ以上の心配をする必要がない\n",
        "\n",
        "という理由から**最悪の計算量を見積もるのが一般的**"
      ]
    },
    {
      "cell_type": "markdown",
      "metadata": {
        "id": "NogpD2D1QMRN"
      },
      "source": [
        "# ソート（基本）"
      ]
    },
    {
      "cell_type": "markdown",
      "metadata": {
        "id": "gZ9MXYgUQQbr"
      },
      "source": [
        "**データを昇順もしくは降順に並べ替える処理**\n",
        "\n",
        "昇順　→　小さい値ほど先頭に近くなる（1,2,3,..,100）\n",
        "\n",
        "降順　→　大きい値ほど先頭に近くなる（100,99,98,...,1）\n"
      ]
    },
    {
      "cell_type": "markdown",
      "metadata": {
        "id": "e0JIEgbGQ5uZ"
      },
      "source": [
        "## 演習問題①"
      ]
    },
    {
      "cell_type": "markdown",
      "metadata": {
        "id": "bo0f1Ir8Q-Yk"
      },
      "source": [
        "配列 [17, 11, 12, 5, 14, 9, 6, 16, 4, 10, 1, 19, 13, 15, 0, 2, 3, 18, 7, 8] を小さい順に並べ替えてください。（目安時間：30分）"
      ]
    },
    {
      "cell_type": "markdown",
      "metadata": {
        "id": "ipePObUqRcSR"
      },
      "source": [
        "**メソッド、組み込み関数を使用した解答**"
      ]
    },
    {
      "cell_type": "code",
      "metadata": {
        "id": "dnqBl7NuRSRm",
        "outputId": "b2ece8cf-0a02-4f9f-f181-01140f39a3da",
        "colab": {
          "base_uri": "https://localhost:8080/",
          "height": 34
        }
      },
      "source": [
        "# sort()メソッド\n",
        "org_list = [17, 11, 12, 5, 14, 9, 6, 16, 4, 10, 1, 19, 13, 15, 0, 2, 3, 18, 7, 8]\n",
        "\n",
        "org_list.sort()\n",
        "print(org_list) #org_listを整列済みのリストに変更"
      ],
      "execution_count": null,
      "outputs": [
        {
          "output_type": "stream",
          "text": [
            "[0, 1, 2, 3, 4, 5, 6, 7, 8, 9, 10, 11, 12, 13, 14, 15, 16, 17, 18, 19]\n"
          ],
          "name": "stdout"
        }
      ]
    },
    {
      "cell_type": "code",
      "metadata": {
        "id": "1vBT4uv6RZQI",
        "outputId": "de2c56ec-6242-4095-c13c-9d44f6f08b05",
        "colab": {
          "base_uri": "https://localhost:8080/",
          "height": 53
        }
      },
      "source": [
        "# 組み込み関数 sorted()\n",
        "org_list = [17, 11, 12, 5, 14, 9, 6, 16, 4, 10, 1, 19, 13, 15, 0, 2, 3, 18, 7, 8]\n",
        "new_list = sorted(org_list)\n",
        "\n",
        "print(new_list)\n",
        "print(org_list) #org_listはそのまま"
      ],
      "execution_count": null,
      "outputs": [
        {
          "output_type": "stream",
          "text": [
            "[0, 1, 2, 3, 4, 5, 6, 7, 8, 9, 10, 11, 12, 13, 14, 15, 16, 17, 18, 19]\n",
            "[17, 11, 12, 5, 14, 9, 6, 16, 4, 10, 1, 19, 13, 15, 0, 2, 3, 18, 7, 8]\n"
          ],
          "name": "stdout"
        }
      ]
    },
    {
      "cell_type": "markdown",
      "metadata": {
        "id": "bk9ktuzHRoeH"
      },
      "source": [
        "Pythonに備え付けのソート機能を使用せず、ソートを実現してください\n",
        "\n",
        "sorted()関数のように、整列したいリストを引数にとる関数を作ると再利用性が高まるので、\n",
        "\n",
        "関数を定義する形で、プログラムを作成してください\n",
        "\n",
        "まずは1つ、出来れば3つの方法を考えてみてください"
      ]
    },
    {
      "cell_type": "code",
      "metadata": {
        "id": "MvwT45t9Q_K_",
        "outputId": "af88702c-4a86-4f2a-9dd1-12ece415998d",
        "colab": {
          "base_uri": "https://localhost:8080/",
          "height": 51
        }
      },
      "source": [
        "#解答はここに記入\n",
        "\n",
        "#選択ソート\n",
        "org_list = [17, 11, 12, 5, 14, 9, 6, 16, 4, 10, 1, 19, 13, 15, 0, 2, 3, 18, 7, 8]\n",
        "\n",
        "def selection_sort(arr):\n",
        "    \n",
        "    for i in range(len(arr)-1):\n",
        "      idx = i\n",
        "      for j in range(i+1,len(arr)):\n",
        "        if arr[idx] > arr[j]:\n",
        "          idx = j\n",
        "      arr[i], arr[idx] = arr[idx], arr[i]\n",
        "\n",
        "    return arr\n",
        "\n",
        "new_list = selection_sort(org_list)\n",
        "print(new_list)\n",
        "print(org_list)\n"
      ],
      "execution_count": null,
      "outputs": [
        {
          "output_type": "stream",
          "text": [
            "[0, 1, 2, 3, 4, 5, 6, 7, 8, 9, 10, 11, 12, 13, 14, 15, 16, 17, 18, 19]\n",
            "[0, 1, 2, 3, 4, 5, 6, 7, 8, 9, 10, 11, 12, 13, 14, 15, 16, 17, 18, 19]\n"
          ],
          "name": "stdout"
        }
      ]
    },
    {
      "cell_type": "code",
      "metadata": {
        "id": "IBvX0oZEREK-",
        "outputId": "25e51a24-175e-4280-fc96-d414ba81a492",
        "colab": {
          "base_uri": "https://localhost:8080/",
          "height": 34
        }
      },
      "source": [
        "#解答はここに記入\n",
        "\n",
        "#挿入ソート\n",
        "#i+1　~　len()繰り返し\n",
        "#０〜iまでに昇順位置に挿入\n",
        "#  \n",
        "\n",
        "org_list2 = [17, 11, 12, 5, 14, 9, 6, 16, 4, 10, 1, 19, 13, 15, 0, 2, 3, 18, 7, 8]\n",
        "\n",
        "def insertion_sort(arr):\n",
        "    for i in range(1,len(arr)):\n",
        "        for j in range(0,i):\n",
        "            if arr[i] < arr[j]:\n",
        "                arr.insert(j,arr.pop(i))\n",
        "                #print(org_list2)\n",
        "#                break\n",
        "#            if j == i-1 and arr[i] < arr[j]:\n",
        "#                arr.insert(j,arr.pop(i))\n",
        "#                break\n",
        "#            if arr[j] < arr[i] < arr[j+1]:\n",
        "#                arr.insert(j+1,arr.pop(i))\n",
        "#                break\n",
        "\n",
        "\n",
        "\n",
        "insertion_sort(org_list2)\n",
        "print(org_list2)\n",
        "\n"
      ],
      "execution_count": null,
      "outputs": [
        {
          "output_type": "stream",
          "text": [
            "[0, 1, 2, 3, 4, 5, 6, 7, 8, 9, 10, 11, 12, 13, 14, 15, 16, 17, 18, 19]\n"
          ],
          "name": "stdout"
        }
      ]
    },
    {
      "cell_type": "code",
      "metadata": {
        "id": "kDAk5VTwRE9W",
        "outputId": "421f804b-4004-43eb-992b-33bc9f2fdea0",
        "colab": {
          "base_uri": "https://localhost:8080/",
          "height": 34
        }
      },
      "source": [
        "#解答はここに記入\n",
        "\n",
        "#バブルソート\n",
        "\n",
        "#後方から２項目を比較して小さい方を左に移動\n",
        "#項目数分繰り返す\n",
        "#１回ごとに１項目ずつ減っていく\n",
        "org_list3 = [17, 11, 12, 5, 14, 9, 6, 16, 4, 10, 1, 19, 13, 15, 0, 2, 3, 18, 7, 8]\n",
        "\n",
        "def bubble_sort(arr):\n",
        "    for i in range(len(arr)):\n",
        "        for j in range(len(arr)-i-1):\n",
        "            if arr[j] > arr[j+1]:\n",
        "                arr[j], arr[j+1] = arr[j+1], arr[j]\n",
        "\n",
        "bubble_sort(org_list3)\n",
        "print(org_list3)\n",
        "\n"
      ],
      "execution_count": null,
      "outputs": [
        {
          "output_type": "stream",
          "text": [
            "[0, 1, 2, 3, 4, 5, 6, 7, 8, 9, 10, 11, 12, 13, 14, 15, 16, 17, 18, 19]\n"
          ],
          "name": "stdout"
        }
      ]
    },
    {
      "cell_type": "markdown",
      "metadata": {
        "id": "lHktSNXsumPE"
      },
      "source": [
        "# 分割統治法と動的計画法"
      ]
    },
    {
      "cell_type": "markdown",
      "metadata": {
        "id": "AiuVwgUkuhF7"
      },
      "source": [
        "## 演習問題②"
      ]
    },
    {
      "cell_type": "markdown",
      "metadata": {
        "id": "WeNX0Z2Du72Q"
      },
      "source": [
        "フィボナッチ数列の第n項目を出力するプログラムを作成してください。\n",
        "\n",
        "そのうえで第35項までの要素すべてを出力してみましょう。\n",
        "\n",
        "---\n",
        "\n",
        "フィボナッチ数列とは？\n",
        "\n",
        "⇒　2つ前の項と1つ前の項を足し合わせていくことでできる数列\n",
        "\n",
        "1, 1, 2, 3, 5, 8, 13, 21, 34, 55, 89, 144, 233, …"
      ]
    },
    {
      "cell_type": "code",
      "metadata": {
        "id": "kNiK_AFWvCsZ",
        "outputId": "c7c7fcf2-9e03-45a7-964a-1cce529351fd",
        "colab": {
          "base_uri": "https://localhost:8080/",
          "height": 612
        }
      },
      "source": [
        "#解答はここに記入\n",
        "\n",
        "def fib(n):\n",
        "    if n <= 2 :\n",
        "        return 1\n",
        "    return fib(n-1) + fib(n-2)\n",
        "\n",
        "#for i in range(1,36):\n",
        "#    print(i,' ', fib(i))\n",
        "\n",
        "#メモ化\n",
        "#クロージャ\n",
        "def fib_memo():\n",
        "    memo = {}\n",
        "    def _fib(n):\n",
        "        if n in memo:\n",
        "            return memo[n]\n",
        "        if n <= 2 :\n",
        "            memo[n] = 1\n",
        "            return memo[n]\n",
        "        memo[n] = fib(n-1) + fib(n-2)\n",
        "        return memo[n]\n",
        "    return _fib\n",
        "\n",
        "fib_m = fib_memo()\n",
        "for i in range(1,36):\n",
        "    print(i,' ', fib_m(i))\n",
        "\n",
        "\n",
        "\n"
      ],
      "execution_count": null,
      "outputs": [
        {
          "output_type": "stream",
          "text": [
            "1   1\n",
            "2   1\n",
            "3   2\n",
            "4   3\n",
            "5   5\n",
            "6   8\n",
            "7   13\n",
            "8   21\n",
            "9   34\n",
            "10   55\n",
            "11   89\n",
            "12   144\n",
            "13   233\n",
            "14   377\n",
            "15   610\n",
            "16   987\n",
            "17   1597\n",
            "18   2584\n",
            "19   4181\n",
            "20   6765\n",
            "21   10946\n",
            "22   17711\n",
            "23   28657\n",
            "24   46368\n",
            "25   75025\n",
            "26   121393\n",
            "27   196418\n",
            "28   317811\n",
            "29   514229\n",
            "30   832040\n",
            "31   1346269\n",
            "32   2178309\n",
            "33   3524578\n",
            "34   5702887\n",
            "35   9227465\n"
          ],
          "name": "stdout"
        }
      ]
    },
    {
      "cell_type": "markdown",
      "metadata": {
        "id": "sbWyMRi4usRm"
      },
      "source": [
        "# 分割統治法とソート"
      ]
    },
    {
      "cell_type": "markdown",
      "metadata": {
        "id": "11oTXCAfu-Vw"
      },
      "source": [
        "分割統治法を用いることで、より効率的なソートアルゴリズムを作ることが出来る"
      ]
    },
    {
      "cell_type": "markdown",
      "metadata": {
        "id": "kC0B-lPzY-g2"
      },
      "source": [
        "## マージソート"
      ]
    },
    {
      "cell_type": "markdown",
      "metadata": {
        "id": "y-Pyise560zS"
      },
      "source": [
        "**ソート対象の配列を2つの部分配列に分割して、それぞれをマージソートによって整列した上で、**\n",
        "\n",
        "**整列済みの2つの部分配列をマージ（合併）することでソートを完了する方法**"
      ]
    },
    {
      "cell_type": "markdown",
      "metadata": {
        "id": "Z7jNTxzB8TFS"
      },
      "source": [
        "**マージの方法**\n",
        "\n",
        "2つの整列済み配列の先頭要素同士を比較して、小さい方をソートしていく\n"
      ]
    },
    {
      "cell_type": "markdown",
      "metadata": {
        "id": "JR-YV5Q9GKYl"
      },
      "source": [
        "**マージも分割統治法と捉えることができる**\n",
        "\n",
        "[1, 2, 5] と [3, 4, 6] のマージは、[1] + ([2, 5] と [3, 4, 6] のマージ)に等しい\n",
        "\n",
        "つまり部分配列A,Bのマージは、\n",
        "\n",
        "部分配列A,Bの先頭要素で小さい方 ＋ その先頭要素を除いた部分配列同士のマージ\n",
        "\n",
        "というように、2つの部分問題を統合したものとして表現できることになる"
      ]
    },
    {
      "cell_type": "code",
      "metadata": {
        "id": "NIKahnf3jzx_"
      },
      "source": [
        "#疑似コード（マージソート）\n",
        "merge_sortは以下の処理を行う関数\n",
        "①n個の要素を含む配列を、それぞれn/2個の要素を含む2つの部分配列に分割する（Divide）\n",
        "②その2つの部分配列をそれぞれmerge_sortでソートする（Solve）\n",
        "③得られた2つのソート済み部分配列をmergeで結合する（Conquer）"
      ],
      "execution_count": null,
      "outputs": []
    },
    {
      "cell_type": "markdown",
      "metadata": {
        "id": "clT9UpmlZDmG"
      },
      "source": [
        "### 演習問題③"
      ]
    },
    {
      "cell_type": "markdown",
      "metadata": {
        "id": "T-RVN9SpmZot"
      },
      "source": [
        "配列 [17, 11, 12, 5, 14, 9, 6, 16, 4, 10, 1, 19, 13, 15, 0, 2, 3, 18, 7, 8] を、\n",
        "\n",
        "マージソートを使って小さい順に並べ替えてください。"
      ]
    },
    {
      "cell_type": "code",
      "metadata": {
        "id": "NyFbRqW9mi0e",
        "outputId": "09b0519b-d0c5-49ad-b616-388637ca9908",
        "colab": {
          "base_uri": "https://localhost:8080/",
          "height": 34
        }
      },
      "source": [
        "#解答はここに記入\n",
        "org_list_m = [17, 11, 12, 5, 14, 9, 6, 16, 4, 10, 1, 19, 13, 15, 0, 2, 3, 18, 7, 8]\n",
        "\n",
        "def merge_sort(arr):\n",
        "    if len(arr) == 1:\n",
        "        return arr\n",
        "    mid = len(arr) // 2\n",
        "    left = arr[0:mid]\n",
        "    right = arr[mid:len(arr)]\n",
        "\n",
        "    return merge2(merge_sort(left),merge_sort(right))\n",
        "\n",
        "def merge(arr1,arr2):\n",
        "    merged_arr = []\n",
        "    i1 = 0\n",
        "    i2 = 0\n",
        "    while True:\n",
        "        if i1 > len(arr1)-1 and i2 > len(arr2)-1:\n",
        "            break\n",
        "        elif i1 <= len(arr1)-1 and i2 > len(arr2)-1:\n",
        "            merged_arr.append(arr1[i1])\n",
        "            i1 += 1\n",
        "        elif i1 > len(arr1)-1 and i2 <= len(arr2)-1:\n",
        "            merged_arr.append(arr2[i2])\n",
        "            i2 += 1\n",
        "        else:\n",
        "            if arr1[i1] < arr2[i2]:\n",
        "                merged_arr.append(arr1[i1])\n",
        "                i1 += 1\n",
        "            elif arr1[i1] > arr2[i2]:\n",
        "                merged_arr.append(arr2[i2])\n",
        "                i2 += 1\n",
        "            else:\n",
        "                merged_arr.append(arr1[i1])\n",
        "                i1 += 1\n",
        "    return merged_arr\n",
        "\n",
        "#マージも再帰バージョン\n",
        "def merge2(arr1,arr2):\n",
        "    if len(arr1)<1:\n",
        "        return arr2\n",
        "    if len(arr2)<1:\n",
        "        return arr1\n",
        "    if arr1[0] < arr2[0]:\n",
        "        return [arr1[0]] + merge2(arr1[1:],arr2)\n",
        "    if arr1[0] > arr2[0]:\n",
        "        return [arr2[0]] + merge2(arr1,arr2[1:])\n",
        "\n",
        "result_arr = merge_sort(org_list_m)\n",
        "print(result_arr)"
      ],
      "execution_count": null,
      "outputs": [
        {
          "output_type": "stream",
          "text": [
            "[0, 1, 2, 3, 4, 5, 6, 7, 8, 9, 10, 11, 12, 13, 14, 15, 16, 17, 18, 19]\n"
          ],
          "name": "stdout"
        }
      ]
    },
    {
      "cell_type": "markdown",
      "metadata": {
        "id": "ZoivIEEDZBQk"
      },
      "source": [
        "## クイックソート"
      ]
    },
    {
      "cell_type": "markdown",
      "metadata": {
        "id": "FZR7jNuWTbft"
      },
      "source": [
        "**ピボット（軸）を選び、ピボットを基準に分割、を再帰的に行うソート**"
      ]
    },
    {
      "cell_type": "code",
      "metadata": {
        "id": "6AQ85ePhi5di"
      },
      "source": [
        "#疑似コード（クイックソート）\n",
        "quick_sortは以下の処理を行う関数\n",
        "①ソート対象の配列をピボットを基準に2つの部分配列に分割する（Divide）\n",
        "②前方の部分配列に対してquick_sortを行う（Solve）\n",
        "③後方の部分配列に対してquick_sortを行う（Solve）\n",
        "④整列済み部分配列とピボットを連結して返す（Conquer）"
      ],
      "execution_count": null,
      "outputs": []
    },
    {
      "cell_type": "markdown",
      "metadata": {
        "id": "BO5xTwE3i9p5"
      },
      "source": [
        "### 演習問題④"
      ]
    },
    {
      "cell_type": "markdown",
      "metadata": {
        "id": "4MgdwONLjAiE"
      },
      "source": [
        "配列 [17, 11, 12, 5, 14, 9, 6, 16, 4, 10, 1, 19, 13, 15, 0, 2, 3, 18, 7, 8] を、\n",
        "\n",
        "クイックソートを使って小さい順に並べ替えてください。"
      ]
    },
    {
      "cell_type": "code",
      "metadata": {
        "id": "-guzIwmfjFnG",
        "outputId": "ad63ba4a-8da2-4365-f065-99dab7424666",
        "colab": {
          "base_uri": "https://localhost:8080/",
          "height": 1000
        }
      },
      "source": [
        "#解答はここに記入\n",
        "org_list_q = [17, 11, 12, 5, 14, 9, 6, 16, 4, 10, 1, 19, 13, 15, 0, 2, 3, 18, 7, 8]\n",
        "\n",
        "def quick_sort(arr):\n",
        "    if len(arr) <= 1:\n",
        "        return arr\n",
        "    pivot = arr[0]\n",
        "    left, right = divide2(pivot, arr[1:])\n",
        "\n",
        "    return quick_sort(left) + [pivot] + quick_sort(right)\n",
        "\n",
        "def divide(pivot, arr):\n",
        "    if len(arr) < 1:\n",
        "        return [],[]\n",
        "    #print(\"<pivot>\", pivot[0])\n",
        "    left = []\n",
        "    right = []\n",
        "    for val in arr:\n",
        "        if pivot > val:\n",
        "            left.append(val)\n",
        "            #print(\"left\",arr[i])\n",
        "        else:\n",
        "            right.append(val)\n",
        "            #print(\"rigth\",arr[i])\n",
        "\n",
        "    print(\"left\", left, \" pivot\", pivot, \" right\",right)\n",
        "    return left, right\n",
        "\n",
        "def divide2(pivot, arr):\n",
        "    print(\"divide2\")\n",
        "    if len(arr) < 1:\n",
        "        return [],[]\n",
        "    left, right = divide2(pivot, arr[1:])\n",
        "    if pivot > arr[0]:\n",
        "        return [arr[0]] + left, right\n",
        "    else:\n",
        "        return left, [arr[0]] + right\n",
        "\n",
        "\n",
        "\n",
        "def quick_sort2(arr):\n",
        "    if len(arr) <= 1:\n",
        "        return arr\n",
        "\n",
        "    left = []\n",
        "    right = []\n",
        "    pivot = arr[0]\n",
        "    left = [i for i in arr[1:] if i < pivot]\n",
        "    right = [i for i in arr[1:] if i >= pivot]\n",
        "\n",
        "    return quick_sort2(left) + [pivot] + quick_sort2(right)\n",
        "\n",
        "\n",
        "result_arr = quick_sort(org_list_q)\n",
        "print(result_arr)"
      ],
      "execution_count": null,
      "outputs": [
        {
          "output_type": "stream",
          "text": [
            "divide2\n",
            "divide2\n",
            "divide2\n",
            "divide2\n",
            "divide2\n",
            "divide2\n",
            "divide2\n",
            "divide2\n",
            "divide2\n",
            "divide2\n",
            "divide2\n",
            "divide2\n",
            "divide2\n",
            "divide2\n",
            "divide2\n",
            "divide2\n",
            "divide2\n",
            "divide2\n",
            "divide2\n",
            "divide2\n",
            "divide2\n",
            "divide2\n",
            "divide2\n",
            "divide2\n",
            "divide2\n",
            "divide2\n",
            "divide2\n",
            "divide2\n",
            "divide2\n",
            "divide2\n",
            "divide2\n",
            "divide2\n",
            "divide2\n",
            "divide2\n",
            "divide2\n",
            "divide2\n",
            "divide2\n",
            "divide2\n",
            "divide2\n",
            "divide2\n",
            "divide2\n",
            "divide2\n",
            "divide2\n",
            "divide2\n",
            "divide2\n",
            "divide2\n",
            "divide2\n",
            "divide2\n",
            "divide2\n",
            "divide2\n",
            "divide2\n",
            "divide2\n",
            "divide2\n",
            "divide2\n",
            "divide2\n",
            "divide2\n",
            "divide2\n",
            "divide2\n",
            "divide2\n",
            "divide2\n",
            "divide2\n",
            "divide2\n",
            "divide2\n",
            "divide2\n",
            "divide2\n",
            "divide2\n",
            "divide2\n",
            "divide2\n",
            "divide2\n",
            "divide2\n",
            "divide2\n",
            "divide2\n",
            "divide2\n",
            "divide2\n",
            "divide2\n",
            "divide2\n",
            "divide2\n",
            "divide2\n",
            "divide2\n",
            "divide2\n",
            "divide2\n",
            "divide2\n",
            "[0, 1, 2, 3, 4, 5, 6, 7, 8, 9, 10, 11, 12, 13, 14, 15, 16, 17, 18, 19]\n"
          ],
          "name": "stdout"
        }
      ]
    },
    {
      "cell_type": "markdown",
      "metadata": {
        "id": "JUT6rmnWkePF"
      },
      "source": [
        "## おまけ：バケットソート\n"
      ]
    },
    {
      "cell_type": "markdown",
      "metadata": {
        "id": "H5lZLyy6otE8"
      },
      "source": [
        "**配列の構成を表現するカウンタ配列を作り、カウンタ配列から得られる位置に要素を移動していくソート**"
      ]
    },
    {
      "cell_type": "markdown",
      "metadata": {
        "id": "IKkpgqluqPn2"
      },
      "source": [
        "**カウンタ配列とは？**\n",
        "\n",
        "ソートしたい配列の各要素の値が何回現れるかを記録する配列のこと"
      ]
    },
    {
      "cell_type": "markdown",
      "metadata": {
        "id": "vzUNYQjEqgmz"
      },
      "source": [
        "例えば、配列A [1, 4, 2, 0, 3, 2, 2, 4] のカウンタ配列Cは [1, 1, 3, 1, 2] になる\n",
        "\n",
        "Aの要素の値がCの位置に、Aの要素の数がCの要素の値になっている\n",
        "\n",
        "→　**カウンタ配列Cの要素数は、配列Aの最大値によって決まる**"
      ]
    },
    {
      "cell_type": "markdown",
      "metadata": {
        "id": "VvDfSBGxsWQY"
      },
      "source": [
        "カウンタ配列の**累積和**を求め、カウンタ配列を更新する\n",
        "\n",
        "[1, 1, 3, 1, 2]　ー更新→　**[1, 2, 5, 6, 8]**"
      ]
    },
    {
      "cell_type": "markdown",
      "metadata": {
        "id": "kVp-I50DtCMC"
      },
      "source": [
        "更新することによって得られる新たなカウンタ配列は、**配列Aの要素の移動先を表している**\n",
        "\n",
        "ソートしたい配列の**後ろの要素から**移動していく\n",
        "\n",
        "①配列Aの一番後ろの4の移動位置は、カウンタ配列の位置4の値の「8」である\n",
        "\n",
        "ソート済み配列 [○, ○, ○, ○, ○, ○, ○, 4]　（位置「８」に移動）\n",
        "\n",
        "カウンタ配列 [1, 2, 5, 6, 7]　（**カウンタ配列の位置4の値を1つ減らす**）\n",
        "\n",
        "ソート済み配列の位置は**１から始まっていることに注意**\n",
        "\n",
        "②配列Aの後ろから2番めの2の移動位置は、カウンタ配列の位置2の値の「５」である\n",
        "\n",
        "ソート済み配列 [○, ○, ○, ○, 2, ○, ○, 4]　（位置「５」に移動）\n",
        "\n",
        "カウンタ配列 [1, 2, 4, 6, 7]　（カウンタ配列の位置2の値を1つ減らす）\n",
        "\n",
        "③配列Aの後ろから3番めの2の移動位置は、カウンタ配列の位置2の値の「４」である\n",
        "\n",
        "ソート済み配列 [○, ○, ○, 2, 2, ○, ○, 4]　（位置「４」に移動）\n",
        "\n",
        "カウンタ配列 [1, 2, 3, 6, 7]　（カウンタ配列の位置2の値を1つ減らす）\n",
        "\n",
        "④配列Aの後ろから4番めの3の移動位置は、カウンタ配列の位置3の値の「６」である\n",
        "\n",
        "ソート済み配列 [○, ○, ○, 2, 2, 3, ○, 4]　（位置「６」に移動）\n",
        "\n",
        "カウンタ配列 [1, 2, 3, 5, 7]　（カウンタ配列の位置3の値を1つ減らす）\n",
        "\n",
        "⑤以下同様"
      ]
    },
    {
      "cell_type": "markdown",
      "metadata": {
        "id": "xt6EVgL-kjhZ"
      },
      "source": [
        "### 演習問題⑤"
      ]
    },
    {
      "cell_type": "markdown",
      "metadata": {
        "id": "qsMsLU3XmAKo"
      },
      "source": [
        "配列 [17, 11, 11, 5, 14, 9, 6, 19, 4, 10, 1, 19, 13, 5, 0, 2, 13, 18, 7, 8] を、\n",
        "\n",
        "バケットソートを使って小さい順に並べ替えてください。"
      ]
    },
    {
      "cell_type": "code",
      "metadata": {
        "id": "w7znGf9fmF3f",
        "colab": {
          "base_uri": "https://localhost:8080/",
          "height": 85
        },
        "outputId": "8447bccb-f6d8-4d6f-ea6a-278483994e6e"
      },
      "source": [
        "#解答はここに記入\n",
        "org_list_b = [17, 11, 11, 5, 14, 9, 6, 19, 4, 10, 1, 19, 13, 5, 0, 2, 13, 18, 7, 8]\n",
        "\n",
        "def bucket_sort(arr):\n",
        "    counter = [0] * (max(arr)+1)\n",
        "    ret_arr = [0] * len(arr)\n",
        "    sum_val = 0\n",
        "    for val in arr:\n",
        "        counter[val] +=1\n",
        "    print(\"counter1 \",counter)\n",
        "\n",
        "    for i, val in enumerate(counter):\n",
        "        sum_val += val\n",
        "        counter[i] = sum_val\n",
        "    print(\"counter2 \",counter)\n",
        "    print(\"arr reverse \",arr[::-1])\n",
        "    for val in arr[::-1]:\n",
        "        #print(counter[val])\n",
        "        #print(ret_arr[counter[val]-1])\n",
        "        ret_arr[counter[val]-1] = val\n",
        "        counter[val] -= 1\n",
        "        #print(\"ret_arr \",ret_arr)\n",
        "\n",
        "    return ret_arr\n",
        "\n",
        "resutl = bucket_sort(org_list_b)\n",
        "print(resutl)\n",
        "\n"
      ],
      "execution_count": null,
      "outputs": [
        {
          "output_type": "stream",
          "text": [
            "counter1  [1, 1, 1, 0, 1, 2, 1, 1, 1, 1, 1, 2, 0, 2, 1, 0, 0, 1, 1, 2]\n",
            "counter2  [1, 2, 3, 3, 4, 6, 7, 8, 9, 10, 11, 13, 13, 15, 16, 16, 16, 17, 18, 20]\n",
            "arr reverse  [8, 7, 18, 13, 2, 0, 5, 13, 19, 1, 10, 4, 19, 6, 9, 14, 5, 11, 11, 17]\n",
            "[0, 1, 2, 4, 5, 5, 6, 7, 8, 9, 10, 11, 11, 13, 13, 14, 17, 18, 19, 19]\n"
          ],
          "name": "stdout"
        }
      ]
    },
    {
      "cell_type": "markdown",
      "metadata": {
        "id": "bxmBu9sDmM0J"
      },
      "source": [
        "# 解答"
      ]
    },
    {
      "cell_type": "markdown",
      "metadata": {
        "id": "Z32oEXPPsr_M"
      },
      "source": [
        "## 演習問題①（基本のソート）"
      ]
    },
    {
      "cell_type": "markdown",
      "metadata": {
        "id": "a7qAQ2HMmRmq"
      },
      "source": [
        "配列 [17, 11, 12, 5, 14, 9, 6, 16, 4, 10, 1, 19, 13, 15, 0, 2, 3, 18, 7, 8] を小さい順に並べ替えてください。"
      ]
    },
    {
      "cell_type": "markdown",
      "metadata": {
        "id": "t-w3amkAszAR"
      },
      "source": [
        "### ヒント"
      ]
    },
    {
      "cell_type": "code",
      "metadata": {
        "id": "IRpuzcBmdv0W"
      },
      "source": [
        "#擬似コード（選択ソート）\n",
        "以下の操作を配列の要素数-1回繰り返す\n",
        "①未ソート部分から最小の要素の位置minを特定する\n",
        "②minの位置にある要素と未ソート部分の先頭要素を交換"
      ],
      "execution_count": null,
      "outputs": []
    },
    {
      "cell_type": "code",
      "metadata": {
        "id": "pDABWOu2xo4X"
      },
      "source": [
        "#擬似コード（挿入ソート）\n",
        "先頭の要素をソート済みとする\n",
        "未ソート部分がなくなるまで以下の処理を繰り返す\n",
        "①未ソート部分の先頭から要素を取り出しtmpに記録する\n",
        "②ソート済みの部分において、tmpよりも大きい要素を後方へ1つずつ移動する\n",
        "③最後に空いた位置にtmpを挿入する"
      ],
      "execution_count": null,
      "outputs": []
    },
    {
      "cell_type": "code",
      "metadata": {
        "id": "xaoyMacTpXjK"
      },
      "source": [
        "#疑似コード（バブルソート）\n",
        "順番が逆になっている隣接要素がなくなるまで、以下の処理を繰り返す\n",
        "①配列の末尾から隣接する要素を順番に比べていき、大小関係が逆ならば交換する"
      ],
      "execution_count": null,
      "outputs": []
    },
    {
      "cell_type": "markdown",
      "metadata": {
        "id": "mu1LscPrcA5v"
      },
      "source": [
        "### 選択ソート"
      ]
    },
    {
      "cell_type": "markdown",
      "metadata": {
        "id": "GjXmMly5eGvu"
      },
      "source": [
        "配列 [17, 11, 12, 5, 14, 9, 6, 16, 4, 10, 1, 19, 13, 15, 0, 2, 3, 18, 7, 8] を小さい順に並べ替えてください。"
      ]
    },
    {
      "cell_type": "code",
      "metadata": {
        "id": "qTojo7prcEJ3"
      },
      "source": [
        "#擬似コード（選択ソート）\n",
        "以下の操作を配列の要素数-1回繰り返す\n",
        "①未ソート部分から最小の要素の位置minを特定する\n",
        "②minの位置にある要素と未ソート部分の先頭要素を交換"
      ],
      "execution_count": null,
      "outputs": []
    },
    {
      "cell_type": "code",
      "metadata": {
        "id": "hYENY_0fpYeN",
        "outputId": "3695d6eb-0b0a-4f66-96ff-07d7a5b3906b",
        "colab": {
          "base_uri": "https://localhost:8080/",
          "height": 35
        }
      },
      "source": [
        "# 選択ソート\n",
        "def select_sort(arr):\n",
        "  for i in range(0, len(arr)-1): #配列の要素数-1回繰り返す\n",
        "    select_min(arr, i)\n",
        "    \n",
        "def select_min(arr, i):\n",
        "  #最小要素の位置の特定\n",
        "  min = i\n",
        "  for j in range(i + 1, len(arr)):\n",
        "    if arr[min] > arr[j]:\n",
        "      min = j\n",
        "  #最小要素と先頭要素を交換\n",
        "  arr[i], arr[min] = arr[min], arr[i]\n",
        "\n",
        "org_list = [17, 11, 12, 5, 14, 9, 6, 16, 4, 10, 1, 19, 13, 15, 0, 2, 3, 18, 7, 8]\n",
        "select_sort(org_list)\n",
        "print(org_list)"
      ],
      "execution_count": null,
      "outputs": [
        {
          "output_type": "stream",
          "text": [
            "[0, 1, 2, 3, 4, 5, 6, 7, 8, 9, 10, 11, 12, 13, 14, 15, 16, 17, 18, 19]\n"
          ],
          "name": "stdout"
        }
      ]
    },
    {
      "cell_type": "markdown",
      "metadata": {
        "id": "LHkObYg7oify"
      },
      "source": [
        "### 挿入ソート"
      ]
    },
    {
      "cell_type": "markdown",
      "metadata": {
        "id": "bRGeyfHueI4Z"
      },
      "source": [
        "配列 [17, 11, 12, 5, 14, 9, 6, 16, 4, 10, 1, 19, 13, 15, 0, 2, 3, 18, 7, 8] を小さい順に並べ替えてください。"
      ]
    },
    {
      "cell_type": "code",
      "metadata": {
        "id": "45g9VY1ccGE2"
      },
      "source": [
        "#擬似コード（挿入ソート）\n",
        "先頭の要素をソート済みとする\n",
        "未ソート部分がなくなるまで以下の処理を繰り返す\n",
        "①未ソート部分の先頭から要素を取り出しtmpに記録する\n",
        "②ソート済みの部分において、tmpよりも大きい要素を後方へ1つずつ移動する\n",
        "③最後に空いた位置にtmpを挿入する"
      ],
      "execution_count": null,
      "outputs": []
    },
    {
      "cell_type": "code",
      "metadata": {
        "id": "N5p1-doqs5VY",
        "outputId": "9d86fcb0-0874-403d-8500-fee846b51d5a",
        "colab": {
          "base_uri": "https://localhost:8080/",
          "height": 35
        }
      },
      "source": [
        "#挿入ソート\n",
        "def insert_sort(arr):\n",
        "  for i in range(1, len(arr)): #先頭の要素を整列済みとみなし、左から2つ目の要素から最後の要素まで\n",
        "    insert(arr, i)\n",
        "    \n",
        "def insert(arr, i):\n",
        "  tmp = arr[i] #未ソート要素の先頭を一時的な（temporary）変数に代入\n",
        "  for j in range(i - 1, -1, -1): #整列済みの要素を右から順に\n",
        "    if tmp < arr[j]: #整列済み要素の方が大きいなら\n",
        "      arr[j + 1] = arr[j] #後方へ1つ移動\n",
        "    else:\n",
        "      arr[j + 1] = tmp #挿入位置決定\n",
        "      break #比較終了\n",
        "  else: #どの整列済み要素よりも小さいなら\n",
        "    arr[0] = tmp #一番左に挿入\n",
        "    \n",
        "org_list = [17, 11, 12, 5, 14, 9, 6, 16, 4, 10, 1, 19, 13, 15, 0, 2, 3, 18, 7, 8]\n",
        "insert_sort(org_list)\n",
        "print(org_list)"
      ],
      "execution_count": null,
      "outputs": [
        {
          "output_type": "execute_result",
          "data": {
            "text/plain": [
              "[0, 1, 2, 3, 4, 5, 6, 7, 8, 9, 10, 11, 12, 13, 14, 15, 16, 17, 18, 19]"
            ]
          },
          "metadata": {
            "tags": []
          },
          "execution_count": 15
        }
      ]
    },
    {
      "cell_type": "markdown",
      "metadata": {
        "id": "OBiMuPgJs51G"
      },
      "source": [
        "### バブルソート"
      ]
    },
    {
      "cell_type": "markdown",
      "metadata": {
        "id": "pyVUUcHleKY5"
      },
      "source": [
        "配列 [17, 11, 12, 5, 14, 9, 6, 16, 4, 10, 1, 19, 13, 15, 0, 2, 3, 18, 7, 8] を小さい順に並べ替えてください。"
      ]
    },
    {
      "cell_type": "code",
      "metadata": {
        "id": "ofuBB7G2cJeX"
      },
      "source": [
        "#疑似コード（バブルソート）\n",
        "順番が逆になっている隣接要素がなくなるまで、以下の処理を繰り返す\n",
        "①配列の末尾から隣接する要素を順番に比べていき、大小関係が逆ならば交換する"
      ],
      "execution_count": null,
      "outputs": []
    },
    {
      "cell_type": "code",
      "metadata": {
        "id": "Elxet-Zcs8XZ",
        "outputId": "54ec2cd6-4cd0-48c2-ce12-18a724e2645e",
        "colab": {
          "base_uri": "https://localhost:8080/",
          "height": 35
        }
      },
      "source": [
        "#バブルソート\n",
        "def bubble_sort(arr):\n",
        "  for i in range(0, len(arr)-1):\n",
        "    exchange(arr, i)\n",
        "    \n",
        "def exchange(arr, i):\n",
        "  for j in range(len(arr)-1, i, -1): #リストの末尾から順番に\n",
        "    if arr[j-1] > arr[j]: #要素を比較して大小関係が逆なら\n",
        "      arr[j-1], arr[j] = arr[j], arr[j-1] #位置を交換する\n",
        "\n",
        "org_list = [17, 11, 12, 5, 14, 9, 6, 16, 4, 10, 1, 19, 13, 15, 0, 2, 3, 18, 7, 8]\n",
        "bubble_sort(org_list)\n",
        "print(org_list)"
      ],
      "execution_count": null,
      "outputs": [
        {
          "output_type": "stream",
          "text": [
            "[0, 1, 2, 3, 4, 5, 6, 7, 8, 9, 10, 11, 12, 13, 14, 15, 16, 17, 18, 19]\n"
          ],
          "name": "stdout"
        }
      ]
    },
    {
      "cell_type": "markdown",
      "metadata": {
        "id": "MJAh4udvuS4F"
      },
      "source": [
        "### 3つのソートを比較（計算量）"
      ]
    },
    {
      "cell_type": "markdown",
      "metadata": {
        "id": "1_3nVHxVrQRA"
      },
      "source": [
        "**選択ソート**\n",
        "\n",
        "データの数をnとする（以下同様とする）と、未ソート部分の最小値を見つけるために、\n",
        "\n",
        "$n-1, n-2, ..., 1$回の比較演算を行うので、合計$((n-1) + 1) × (n-1) / 2 = (n^2-n) / 2$ 回の比較演算を行う\n",
        "\n",
        "よってオーダーは、$O(n^2)$のアルゴリズムになる"
      ]
    },
    {
      "cell_type": "markdown",
      "metadata": {
        "id": "CKNCL3RHwjQu"
      },
      "source": [
        "オーダーは、以下の流れで計算を行うことで得られる\n",
        "\n",
        "1.   大まかな計算ステップ（意味のある処理の回数）を見積もる\n",
        "2.   得られた計算ステップのうち、最も影響のある項のみを残し、定数倍を無視する"
      ]
    },
    {
      "cell_type": "markdown",
      "metadata": {
        "id": "acJPoVBmycgK"
      },
      "source": [
        "選択ソートの例では、 比較演算（計算ステップ）が、合計で$(n^2-n) / 2$ 回行われているので、\n",
        "\n",
        "$(n^2-n) / 2$ で最も影響力のある項である $n^2 / 2$ だけを残し、定数倍（$1/2$）を無視するので、オーダーは$O(n^2)$になる"
      ]
    },
    {
      "cell_type": "markdown",
      "metadata": {
        "id": "eqDFsTwxwdtI"
      },
      "source": [
        "**挿入ソート**\n",
        "\n",
        "各 i のループで、arr[i] の要素を前方へ移動する回数を見積もる\n",
        "\n",
        "最悪の場合、arr[i] の要素を毎回のループにおいて先頭まで移動する必要があるので、\n",
        "\n",
        "$1 + 2 + ... + (n-1) = (1+n-1) × (n-1) /2 = (n^2-n) / 2$ 回、よってオーダーは$O(n^2)$になる"
      ]
    },
    {
      "cell_type": "markdown",
      "metadata": {
        "id": "oWDprC7l2ptn"
      },
      "source": [
        "挿入ソートは、**データの内容によって計算量が大きく変動する**ソートアルゴリズムである\n",
        "\n",
        "整列対象のデータがすでに小さい順に整列していた場合、移動（挿入）が必要なくなるため、\n",
        "\n",
        "n回比較するだけで計算が完了する"
      ]
    },
    {
      "cell_type": "markdown",
      "metadata": {
        "id": "Msgh69Ejwg_Q"
      },
      "source": [
        "**バブルソート**\n",
        "\n",
        "上の2つと同様にして求めてみましょう"
      ]
    },
    {
      "cell_type": "markdown",
      "metadata": {
        "id": "Ju10E3ayq6rQ"
      },
      "source": [
        "### 3つのソートを比較（安定なソート）"
      ]
    },
    {
      "cell_type": "markdown",
      "metadata": {
        "id": "tpBiVf04uZip"
      },
      "source": [
        "**安定なソートとは？**\n",
        "\n",
        "値が同じ要素を含むデータをソートした時に、\n",
        "\n",
        "**処理の前後でそれらの要素の順番が変わらない**ソートアルゴリズムのこと"
      ]
    },
    {
      "cell_type": "markdown",
      "metadata": {
        "id": "rVcSaI_B8lRE"
      },
      "source": [
        "**選択ソート**\n",
        "\n",
        "[2D, 3C, 2G, 1A] というリストを、数字が小さい順に選択ソートで並べ替えてみると、\n",
        "\n",
        "[2D, 3C, 2G, 1A] 　→　[1A, 3C, 2G, 2D] 　→　[1A, 2G, 3C, 2D] 　→　[1A, 2G, 2D, 3C]　となり、\n",
        "\n",
        "**安定なソートでない**ことがわかる"
      ]
    },
    {
      "cell_type": "markdown",
      "metadata": {
        "id": "Tt_11Uy08oXF"
      },
      "source": [
        "**挿入ソート**\n",
        "\n",
        "整列済み要素と移動要素が等しい時は交換を行わないので、**安定なソート**である\n",
        "\n",
        "なので「if tmp < arr[j]:」の条件式が、「if tmp <= arr[j]:」ならば安定でないソートになることに注意"
      ]
    },
    {
      "cell_type": "markdown",
      "metadata": {
        "id": "HUwXOnAV8rC5"
      },
      "source": [
        "**バブルソート**\n",
        "\n",
        "上の2つと同様にして考えてみましょう"
      ]
    },
    {
      "cell_type": "markdown",
      "metadata": {
        "id": "7Nxyprkn5kjL"
      },
      "source": [
        "### バブルソートの解答（オーダー、ソートの安定性）"
      ]
    },
    {
      "cell_type": "markdown",
      "metadata": {
        "id": "iRO2RnKI5ulf"
      },
      "source": [
        "**オーダー**\n",
        "\n",
        "未ソート部分において隣接要素の比較を、$n-1, n-2, …, 1$ 回と行っていくので、\n",
        "\n",
        "比較回数の合計は $(n^2 - n) / 2$ 回、よってオーダーは$O(n^2)$である"
      ]
    },
    {
      "cell_type": "markdown",
      "metadata": {
        "id": "PoBohjE_NWNB"
      },
      "source": [
        "**ソートの安定性**\n",
        "\n",
        "隣接要素が等しい時は交換を行わないので、**安定なソート**である\n",
        "\n",
        "なので挿入ソートと同様に、「if arr[j-1] > arr[j]:」の条件式が、\n",
        "\n",
        "「if arr[j-1] >= arr[j]:」ならば安定でないソートになることに注意"
      ]
    },
    {
      "cell_type": "markdown",
      "metadata": {
        "id": "upJ9DkJgkxM6"
      },
      "source": [
        "## 演習問題②（フィボナッチ数列）"
      ]
    },
    {
      "cell_type": "markdown",
      "metadata": {
        "id": "cfYj6HL3mUW1"
      },
      "source": [
        "フィボナッチ数列の第n項目を出力するプログラムを作成してください。\n",
        "\n",
        "そのうえで第35項までの要素すべてを出力してみましょう。\n",
        "\n",
        "\n",
        "---\n",
        "\n",
        "\n",
        "\n",
        "**フィボナッチ数列とは？**\n",
        "\n",
        "⇒　2つ前の項と1つ前の項を足し合わせていくことでできる数列\n",
        "\n",
        "1, 1, 2, 3, 5, 8, 13, 21, 34, 55, 89, 144, 233, …\n"
      ]
    },
    {
      "cell_type": "markdown",
      "metadata": {
        "id": "vn3Ccxjv5IjO"
      },
      "source": [
        "### ヒント"
      ]
    },
    {
      "cell_type": "markdown",
      "metadata": {
        "id": "ii31xcI35MVR"
      },
      "source": [
        "フィボナッチ数列のn項目はn-1項目とn-2項目の和で表現できる\n",
        "\n",
        "→　**fib(n)は、fib(n-1)とfib(n-2)の和で出来る**"
      ]
    },
    {
      "cell_type": "markdown",
      "metadata": {
        "id": "VsnFUCDpvey8"
      },
      "source": [
        "### 再帰関数とは？"
      ]
    },
    {
      "cell_type": "markdown",
      "metadata": {
        "id": "Y6KjLaq4vip2"
      },
      "source": [
        "**関数の中で自分自身を呼び出すような関数**"
      ]
    },
    {
      "cell_type": "markdown",
      "metadata": {
        "id": "0LFlqyt6vrT0"
      },
      "source": [
        "例：ｎの階乗を計算する関数\n",
        "\n",
        "ｎの階乗とは？　→　$n! = 1 × 2 × ... × (n-1) × n$"
      ]
    },
    {
      "cell_type": "code",
      "metadata": {
        "id": "v15zdLP9wKpD"
      },
      "source": [
        "def factorial(n):\n",
        "  if n == 1:\n",
        "    return 1\n",
        "  return n * factorial(n-1)"
      ],
      "execution_count": null,
      "outputs": []
    },
    {
      "cell_type": "markdown",
      "metadata": {
        "id": "2JYFArBZwoAZ"
      },
      "source": [
        "nの階乗は「n」と「n-1の階乗」の積で表現することが出来る\n",
        "\n",
        "→　「**nの階乗は部分問題としてn-1の階乗を含む**」と言える\n",
        "\n",
        "factorial()関数が引数の階乗を返す関数なので、factorial(n-1)はn-1の階乗を返す\n",
        "\n",
        "なので、factorial(n)の戻り値は「n * factorial(n-1)」と書くことが出来る"
      ]
    },
    {
      "cell_type": "markdown",
      "metadata": {
        "id": "D5iPMOo7-z1U"
      },
      "source": [
        "再帰関数を使うときのポイントとして、n==1のとき1を返すというように、\n",
        "\n",
        "**再帰的な呼び出しがどこかで必ず終了するようにしておく**必要があることに注意"
      ]
    },
    {
      "cell_type": "code",
      "metadata": {
        "id": "LGP8Z7CU5zCU"
      },
      "source": [
        "def factorial(n):\n",
        "  return n * factorial(n-1)"
      ],
      "execution_count": null,
      "outputs": []
    },
    {
      "cell_type": "markdown",
      "metadata": {
        "id": "9kt-n5EZk9n2"
      },
      "source": [
        "### 分割統治法"
      ]
    },
    {
      "cell_type": "markdown",
      "metadata": {
        "id": "iuKnomp2yWML"
      },
      "source": [
        "再帰のテクニックを用いることで、**分割統治法**という手法が使えるようになる\n",
        "\n",
        "**分割統治法とは？**\n",
        "\n",
        "\n",
        "1.   与えられた問題を小さな部分問題に「分割」する（Divide）\n",
        "2.   部分問題を再帰的に解く（Solve）\n",
        "3.   得られた部分問題の解を「統合」して、元の問題を解く（Conquer）\n",
        "\n"
      ]
    },
    {
      "cell_type": "code",
      "metadata": {
        "id": "r8js3XDllDnd"
      },
      "source": [
        "#フィボナッチ数列（分割統治法）\n",
        "def fib(n):\n",
        "  if n == 0 or n == 1:\n",
        "    return 1\n",
        "  return fib(n-1) + fib(n-2)"
      ],
      "execution_count": null,
      "outputs": []
    },
    {
      "cell_type": "markdown",
      "metadata": {
        "id": "ywN-zK9O9zr6"
      },
      "source": [
        "フィボナッチ数列のn項目はn-1項目とn-2項目の和で表現できる\n",
        "\n",
        "→　**fib(n)は、fib(n-1)とfib(n-2)という部分問題に分割することが出来る**\n",
        "\n",
        "→　分割統治法で解決できる"
      ]
    },
    {
      "cell_type": "code",
      "metadata": {
        "id": "qjVA0w059wzC",
        "outputId": "e15535d3-214e-4092-99b1-53de8aa49984",
        "colab": {
          "base_uri": "https://localhost:8080/",
          "height": 647
        }
      },
      "source": [
        "#フィボナッチ数列（分割統治法）\n",
        "def fib(n):\n",
        "  if n == 0 or n == 1:\n",
        "    return 1\n",
        "  return fib(n-1) + fib(n-2)\n",
        "\n",
        "for i in range(35):\n",
        "  print(fib(i))"
      ],
      "execution_count": null,
      "outputs": [
        {
          "output_type": "stream",
          "text": [
            "1\n",
            "1\n",
            "2\n",
            "3\n",
            "5\n",
            "8\n",
            "13\n",
            "21\n",
            "34\n",
            "55\n",
            "89\n",
            "144\n",
            "233\n",
            "377\n",
            "610\n",
            "987\n",
            "1597\n",
            "2584\n",
            "4181\n",
            "6765\n",
            "10946\n",
            "17711\n",
            "28657\n",
            "46368\n",
            "75025\n",
            "121393\n",
            "196418\n",
            "317811\n",
            "514229\n",
            "832040\n",
            "1346269\n",
            "2178309\n",
            "3524578\n",
            "5702887\n",
            "9227465\n"
          ],
          "name": "stdout"
        }
      ]
    },
    {
      "cell_type": "markdown",
      "metadata": {
        "id": "q2XSOgV1lEoj"
      },
      "source": [
        "### 動的計画法（Dynamic Programming）"
      ]
    },
    {
      "cell_type": "markdown",
      "metadata": {
        "id": "bmiyF_jSEt2A"
      },
      "source": [
        "**一度計算した結果をメモリに保存（メモ化）して再利用できるようにすることで、**\n",
        "\n",
        "**同じ計算を繰り返すという無駄を省き、計算を効率化する手法**"
      ]
    },
    {
      "cell_type": "code",
      "metadata": {
        "id": "psDrWHNslSzi",
        "outputId": "20a47d98-8ac9-4297-ae98-d8828c11eeaf",
        "colab": {
          "base_uri": "https://localhost:8080/",
          "height": 647
        }
      },
      "source": [
        "#動的計画法①\n",
        "def fib_memo(n):\n",
        "  memo = [None]*(n+1)\n",
        "\n",
        "  def _fib(n):\n",
        "    if n == 0 or n == 1:\n",
        "      return 1\n",
        "    if memo[n] != None:\n",
        "      return memo[n]\n",
        "    memo[n] = _fib(n-1) + _fib(n-2)\n",
        "    return memo[n]\n",
        "\n",
        "  return _fib(n)\n",
        "  \n",
        "for i in range(35):\n",
        "  print(fib_memo(i))"
      ],
      "execution_count": null,
      "outputs": [
        {
          "output_type": "stream",
          "text": [
            "1\n",
            "1\n",
            "2\n",
            "3\n",
            "5\n",
            "8\n",
            "13\n",
            "21\n",
            "34\n",
            "55\n",
            "89\n",
            "144\n",
            "233\n",
            "377\n",
            "610\n",
            "987\n",
            "1597\n",
            "2584\n",
            "4181\n",
            "6765\n",
            "10946\n",
            "17711\n",
            "28657\n",
            "46368\n",
            "75025\n",
            "121393\n",
            "196418\n",
            "317811\n",
            "514229\n",
            "832040\n",
            "1346269\n",
            "2178309\n",
            "3524578\n",
            "5702887\n",
            "9227465\n"
          ],
          "name": "stdout"
        }
      ]
    },
    {
      "cell_type": "code",
      "metadata": {
        "id": "_du3t8bPyCNS",
        "outputId": "3f8731e9-d82d-401e-f48e-7637216dd37a",
        "colab": {
          "base_uri": "https://localhost:8080/",
          "height": 647
        }
      },
      "source": [
        "#動的計画法②\n",
        "def fib_dp(n):\n",
        "  memo = [None] * n\n",
        "  memo[0] = 1\n",
        "  memo[1] = 1\n",
        "  for i in range(2, n):\n",
        "    memo[i] = memo[i - 1] + memo[i - 2]\n",
        "  return memo\n",
        "  \n",
        "for i in fib_dp(35):\n",
        "  print(i)"
      ],
      "execution_count": null,
      "outputs": [
        {
          "output_type": "stream",
          "text": [
            "1\n",
            "1\n",
            "2\n",
            "3\n",
            "5\n",
            "8\n",
            "13\n",
            "21\n",
            "34\n",
            "55\n",
            "89\n",
            "144\n",
            "233\n",
            "377\n",
            "610\n",
            "987\n",
            "1597\n",
            "2584\n",
            "4181\n",
            "6765\n",
            "10946\n",
            "17711\n",
            "28657\n",
            "46368\n",
            "75025\n",
            "121393\n",
            "196418\n",
            "317811\n",
            "514229\n",
            "832040\n",
            "1346269\n",
            "2178309\n",
            "3524578\n",
            "5702887\n",
            "9227465\n"
          ],
          "name": "stdout"
        }
      ]
    },
    {
      "cell_type": "markdown",
      "metadata": {
        "id": "RBFiKmefSZOj"
      },
      "source": [
        "### 分割統治法と動的計画法の特徴"
      ]
    },
    {
      "cell_type": "markdown",
      "metadata": {
        "id": "IZPDKTP2VJ1c"
      },
      "source": [
        "**分割統治法**\n",
        "\n",
        "*   大きな問題を解くのに必要な小問題をトップダウンに求めていく\n",
        "*   同じ問題を繰り返し解いてしまう可能性がある\n",
        "*   大問題を解くのに全く必要のない小問題を解くことはない\n",
        "\n",
        "**動的計画法**\n",
        "\n",
        "*   小問題をボトムアップに解いていき、保存・再利用して大きな問題を解決する\n",
        "*   同じ問題を二度解くことはない\n",
        "*   大問題を解くのに全く必要のない小問題を解いて記録してしまう可能性がある"
      ]
    },
    {
      "cell_type": "markdown",
      "metadata": {
        "id": "c_Jaga9GzNJ0"
      },
      "source": [
        "## 演習問題③（マージソート）"
      ]
    },
    {
      "cell_type": "markdown",
      "metadata": {
        "id": "QAvMPA8qkWhC"
      },
      "source": [
        "配列 [17, 11, 12, 5, 14, 9, 6, 16, 4, 10, 1, 19, 13, 15, 0, 2, 3, 18, 7, 8] を、\n",
        "\n",
        "マージソートを使って小さい順に並べ替えてください。"
      ]
    },
    {
      "cell_type": "code",
      "metadata": {
        "id": "tTgYY9D8kyX_"
      },
      "source": [
        "#疑似コード（マージソート）\n",
        "merge_sortは以下の処理を行う関数\n",
        "①n個の要素を含む配列を、それぞれn/2個の要素を含む2つの部分配列に分割する（Devide）\n",
        "②その2つの部分配列をそれぞれmerge_sortでソートする（Solve）\n",
        "③得られた2つのソート済み部分配列を結合する（Conquer）"
      ],
      "execution_count": null,
      "outputs": []
    },
    {
      "cell_type": "code",
      "metadata": {
        "id": "jN1nccqTzULM",
        "outputId": "3cda4274-b1e0-4172-810e-067bf56ab2c6",
        "colab": {
          "base_uri": "https://localhost:8080/",
          "height": 53
        }
      },
      "source": [
        "def merge_sort(arr): #分割\n",
        "  if len(arr) < 2:\n",
        "    return arr\n",
        "  mid = len(arr) // 2\n",
        "  return merge(merge_sort(arr[:mid]), merge_sort(arr[mid:]))\n",
        "\n",
        "def merge(arrf, arrb): #マージ\n",
        "  if len(arrf) < 1:\n",
        "    return arrb\n",
        "  if len(arrb) < 1:\n",
        "    return arrf\n",
        "  if arrf[0] <= arrb[0]:\n",
        "    return [arrf[0]] + merge(arrf[1:], arrb)\n",
        "  else:\n",
        "    return [arrb[0]] + merge(arrf, arrb[1:])\n",
        "  \n",
        "org_list = [17, 11, 12, 5, 14, 9, 6, 16, 4, 10, 1, 19, 13, 15, 0, 2, 3, 18, 7, 8]\n",
        "print(merge_sort(org_list))\n",
        "print(org_list) #merge_sort()関数は新しいリストを作成して返す関数なので、org_listの状態は保たれる"
      ],
      "execution_count": null,
      "outputs": [
        {
          "output_type": "stream",
          "text": [
            "[0, 1, 2, 3, 4, 5, 6, 7, 8, 9, 10, 11, 12, 13, 14, 15, 16, 17, 18, 19]\n",
            "[17, 11, 12, 5, 14, 9, 6, 16, 4, 10, 1, 19, 13, 15, 0, 2, 3, 18, 7, 8]\n"
          ],
          "name": "stdout"
        }
      ]
    },
    {
      "cell_type": "markdown",
      "metadata": {
        "id": "xc-dX6YR2i7-"
      },
      "source": [
        "### 計算量"
      ]
    },
    {
      "cell_type": "markdown",
      "metadata": {
        "id": "vx6br_3S2lZ0"
      },
      "source": [
        "8個の要素を1個になるまで分割すると、\n",
        "\n",
        "８→４→２→１というように３回の分割が必要\n",
        "\n",
        "一般にｎ個の要素の場合は\n",
        "$\\log_2 n$\n",
        "回の分割が必要になる\n",
        "\n",
        "（スライドの例では、４個の要素だったので２回分割していた）\n",
        "\n",
        "分割の回数だけマージが必要になり、マージの計算量はそれぞれ、\n",
        "$O(n)$\n",
        "になる\n",
        "\n",
        "分割した回数だけマージする必要があるので、マージソートの計算量は\n",
        "$O(n\\log n)$\n",
        "になる\n",
        "\n",
        "オーダーの表記では $\\log_2 n$ を$\\log n$ と書いてしまうことが多い\n",
        "\n",
        "本当は漸化式を用いて計算する必要がありますが、ここでは直感的な説明に留めました"
      ]
    },
    {
      "cell_type": "markdown",
      "metadata": {
        "id": "9R9T9zMS5320"
      },
      "source": [
        "## 演習問題④（クイックソート）"
      ]
    },
    {
      "cell_type": "markdown",
      "metadata": {
        "id": "QTwB8T8ukZup"
      },
      "source": [
        "配列 [17, 11, 12, 5, 14, 9, 6, 16, 4, 10, 1, 19, 13, 15, 0, 2, 3, 18, 7, 8] を、\n",
        "\n",
        "クイックソートを使って小さい順に並べ替えてください。"
      ]
    },
    {
      "cell_type": "code",
      "metadata": {
        "id": "HZQTSjZqns3_"
      },
      "source": [
        "#疑似コード（クイックソート）\n",
        "quick_sortは以下の処理を行う関数\n",
        "①ソート対象の配列をピボットを基準に2つの部分配列に分割する（Divide）\n",
        "②前方の部分配列に対してquick_sortを行う（Solve）\n",
        "③後方の部分配列に対してquick_sortを行う（Solve）\n",
        "④整列済み部分配列とピボットを連結して返す（Conquer）"
      ],
      "execution_count": null,
      "outputs": []
    },
    {
      "cell_type": "code",
      "metadata": {
        "id": "knwQ-E2wX3bl",
        "outputId": "61452096-4d20-4280-ceaf-4f1fce711895",
        "colab": {
          "base_uri": "https://localhost:8080/",
          "height": 51
        }
      },
      "source": [
        "def quick_sort(arr):\n",
        "  if len(arr) < 2:\n",
        "    return arr\n",
        "  p = arr[0] #pivot（ピボット）の略\n",
        "  arrf, arrb = divide(p, arr[1:])\n",
        "  return quick_sort(arrf) + [p] + quick_sort(arrb)\n",
        "\n",
        "def divide(p, arr):\n",
        "  left = []\n",
        "  right = []\n",
        "  for i in arr:\n",
        "    if i < p:\n",
        "      left.append(i)\n",
        "    else:\n",
        "      right.append(i)\n",
        "  return left, right\n",
        "\n",
        "org_list = [17, 11, 12, 5, 14, 9, 6, 16, 4, 10, 1, 19, 13, 15, 0, 2, 3, 18, 7, 8]\n",
        "print(quick_sort(org_list))\n",
        "print(org_list)"
      ],
      "execution_count": null,
      "outputs": [
        {
          "output_type": "stream",
          "text": [
            "[0, 1, 2, 3, 4, 5, 6, 7, 8, 9, 10, 11, 12, 13, 14, 15, 16, 17, 18, 19]\n",
            "[17, 11, 12, 5, 14, 9, 6, 16, 4, 10, 1, 19, 13, 15, 0, 2, 3, 18, 7, 8]\n"
          ],
          "name": "stdout"
        }
      ]
    },
    {
      "cell_type": "markdown",
      "metadata": {
        "id": "wxb82ChFi-I0"
      },
      "source": [
        "分割をリスト内包表記を使って実現すると以下のようになる（[公式ドキュメント](https://docs.python.org/ja/3/tutorial/datastructures.html)）"
      ]
    },
    {
      "cell_type": "code",
      "metadata": {
        "id": "3H_ybSePiOR4",
        "outputId": "61bf8684-622a-497e-a9df-fc8f850a9f9d",
        "colab": {
          "base_uri": "https://localhost:8080/",
          "height": 51
        }
      },
      "source": [
        "def quick_sort(arr):\n",
        "    if len(arr) < 2:\n",
        "      return arr\n",
        "    p = arr[0]\n",
        "    left = [i for i in arr[1:] if i < p]\n",
        "    right = [i for i in arr[1:] if i >= p]\n",
        "    #配列の要素が0になるまで繰り返す\n",
        "    return quick_sort(left) + [p] + quick_sort(right)\n",
        "      \n",
        "org_list = [17, 11, 12, 5, 14, 9, 6, 16, 4, 10, 1, 19, 13, 15, 0, 2, 3, 18, 7, 8]\n",
        "print(quick_sort(org_list))\n",
        "print(org_list)"
      ],
      "execution_count": null,
      "outputs": [
        {
          "output_type": "stream",
          "text": [
            "[0, 1, 2, 3, 4, 5, 6, 7, 8, 9, 10, 11, 12, 13, 14, 15, 16, 17, 18, 19]\n",
            "[17, 11, 12, 5, 14, 9, 6, 16, 4, 10, 1, 19, 13, 15, 0, 2, 3, 18, 7, 8]\n"
          ],
          "name": "stdout"
        }
      ]
    },
    {
      "cell_type": "markdown",
      "metadata": {
        "id": "hiNNbxAMgK0P"
      },
      "source": [
        "divide()を分割統治法を用いて実現すると以下のようになる"
      ]
    },
    {
      "cell_type": "code",
      "metadata": {
        "id": "HTFaTD4d588o",
        "outputId": "a9c01cf3-3ce9-4fad-be6e-23cfc75ca27e",
        "colab": {
          "base_uri": "https://localhost:8080/",
          "height": 53
        }
      },
      "source": [
        "def quick_sort(arr):\n",
        "  if len(arr) < 2:\n",
        "    return arr\n",
        "  p = arr[0] #pivot（ピボット）の略\n",
        "  arrf, arrb = divide(p, arr[1:])\n",
        "  return quick_sort(arrf) + [p] + quick_sort(arrb)\n",
        "\n",
        "def divide(p, arr): #ピボットとピボット以外の要素を引数に取る関数\n",
        "  if len(arr) < 1:\n",
        "    return [], []\n",
        "  arrf, arrb = divide(p, arr[1:])\n",
        "  top = arr[0]\n",
        "  if top < p:\n",
        "    return [top] + arrf, arrb\n",
        "  else:\n",
        "    return arrf, [top] + arrb\n",
        "  \n",
        "org_list = [17, 11, 12, 5, 14, 9, 6, 16, 4, 10, 1, 19, 13, 15, 0, 2, 3, 18, 7, 8]\n",
        "print(quick_sort(org_list))\n",
        "print(org_list)"
      ],
      "execution_count": null,
      "outputs": [
        {
          "output_type": "stream",
          "text": [
            "[0, 1, 2, 3, 4, 5, 6, 7, 8, 9, 10, 11, 12, 13, 14, 15, 16, 17, 18, 19]\n",
            "[17, 11, 12, 5, 14, 9, 6, 16, 4, 10, 1, 19, 13, 15, 0, 2, 3, 18, 7, 8]\n"
          ],
          "name": "stdout"
        }
      ]
    },
    {
      "cell_type": "markdown",
      "metadata": {
        "id": "dg9Ov-ZB-hJC"
      },
      "source": [
        "### 計算量"
      ]
    },
    {
      "cell_type": "markdown",
      "metadata": {
        "id": "bHcsRieoCixI"
      },
      "source": [
        "データの内容とピボットの選び方に依存します\n",
        "\n",
        "**最悪のケース**\n",
        "\n",
        "毎回の左右分割において、常に片方が 0 個でもう片方にすべて偏った場合\n",
        "\n",
        "例えば、先頭要素をピボットにするとき、すでに配列が降順に整列済みだと、\n",
        "\n",
        "左右分割で毎回すべての要素が右側に来てしまう\n",
        "\n",
        "この場合、\n",
        "$O(n^2)$\n",
        "の計算量になります\n",
        "\n",
        "こういう事態を避けるために、ピボットをランダムに決定するなどして対策することも多いです\n",
        "\n",
        "**平均的なケース**\n",
        "\n",
        "毎回左右均等に分割されていけば、マージソートと同様に $\\log_2 n$ 回の分割を行います\n",
        "\n",
        "平均的な計算量は$O(n\\log n)$になり、一般的に**最も高速なソートアルゴリズム**と言われています"
      ]
    },
    {
      "cell_type": "markdown",
      "metadata": {
        "id": "9_DQgh6SyRuP"
      },
      "source": [
        "## 演習問題⑤（バケットソート）"
      ]
    },
    {
      "cell_type": "markdown",
      "metadata": {
        "id": "yTVd7lRX04Ll"
      },
      "source": [
        "配列 [17, 11, 11, 5, 14, 9, 6, 19, 4, 10, 1, 19, 13, 5, 0, 2, 13, 18, 7, 8] を、\n",
        "\n",
        "バケットソートを使って小さい順に並べ替えてください。"
      ]
    },
    {
      "cell_type": "code",
      "metadata": {
        "id": "QpEMHLw4s1nI",
        "outputId": "140bd618-254e-4cda-b31c-acd8a1554d70",
        "colab": {
          "base_uri": "https://localhost:8080/",
          "height": 35
        }
      },
      "source": [
        "def bucket_sort(arr):\n",
        "  arrc = [0] * (max(arr)+1) #ソート対象の配列の最大要素が収まるカウンタ配列を用意\n",
        "  #要素の数をカウント\n",
        "  for i in arr:\n",
        "    arrc[i] += 1\n",
        "  #累積和を求める\n",
        "  for j in range(1, len(arrc)):\n",
        "    arrc[j] = arrc[j] + arrc[j-1]\n",
        "  #ソート先配列を用意して代入していく\n",
        "  arrs = [0] * len(arr)\n",
        "  for i in reversed(arr):\n",
        "    arrs[arrc[i]-1] = i #カウンタ配列の指定先が1始まりなので、-1して調整\n",
        "    arrc[i] -= 1\n",
        "  return arrs\n",
        "\n",
        "org_list = [17, 11, 11, 5, 14, 9, 6, 19, 4, 10, 1, 19, 13, 5, 0, 2, 13, 18, 7, 8]\n",
        "print(bucket_sort(org_list))"
      ],
      "execution_count": null,
      "outputs": [
        {
          "output_type": "stream",
          "text": [
            "[0, 1, 2, 4, 5, 5, 6, 7, 8, 9, 10, 11, 11, 13, 13, 14, 17, 18, 19, 19]\n"
          ],
          "name": "stdout"
        }
      ]
    },
    {
      "cell_type": "markdown",
      "metadata": {
        "id": "5Sc_olZVcQOn"
      },
      "source": [
        "### 計算量"
      ]
    },
    {
      "cell_type": "markdown",
      "metadata": {
        "id": "0dpKlmxucTJG"
      },
      "source": [
        "カウンタ配列への要素の挿入と取り出しが、それぞれデータ数だけ行われるので\n",
        "\n",
        "$n + n = 2n$ より $O(n)$ となる "
      ]
    },
    {
      "cell_type": "markdown",
      "metadata": {
        "id": "a98-H1Tjd5ht"
      },
      "source": [
        "### バケットソートの使用条件"
      ]
    },
    {
      "cell_type": "markdown",
      "metadata": {
        "id": "0PyR9v3Bg1B-"
      },
      "source": [
        "これまで見てきたソートアルゴリズムの中で最速のアルゴリズムであるが、\n",
        "\n",
        "バケットソートの使用には強い制限がある"
      ]
    },
    {
      "cell_type": "markdown",
      "metadata": {
        "id": "QQnhRbs8d8Sz"
      },
      "source": [
        "**①配列の値が整数値である**\n",
        "\n",
        "カウンタ配列の位置と対応させるため\n",
        "\n",
        "**②配列の最大値が大きすぎない**\n",
        "\n",
        "最大値が大きいとカウンタ配列の記憶領域の使用量が膨大になってしまうため"
      ]
    }
  ]
}