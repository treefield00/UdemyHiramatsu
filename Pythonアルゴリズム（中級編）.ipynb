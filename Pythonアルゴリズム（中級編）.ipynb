{
  "nbformat": 4,
  "nbformat_minor": 0,
  "metadata": {
    "colab": {
      "provenance": [],
      "collapsed_sections": [
        "3YpsHu_JNoDW",
        "jj5VVKm09ZkG",
        "5Q-Vlsnqu5TY",
        "wfUo57t77em0",
        "dXBx5s15Ubfd",
        "6PErDUO0nL-L",
        "A_jJNTvOoK4U",
        "g8etHEBP6NRR",
        "7_bi-jZsWZnk",
        "j9Vtr6b5ZniI",
        "b7r6VTDVZvFX",
        "u3TW0T2ukojI",
        "Lx0XSFs2lXoJ",
        "OkTnAc-cjodw",
        "mAM6O9Hx4gCb",
        "Z32oEXPPsr_M",
        "upJ9DkJgkxM6",
        "c_Jaga9GzNJ0",
        "9R9T9zMS5320",
        "9_DQgh6SyRuP",
        "3Nq1myB0yX-J",
        "jx-eB-Qlyiei",
        "JFZAVOPQcENJ"
      ],
      "toc_visible": true,
      "include_colab_link": true
    },
    "kernelspec": {
      "name": "python3",
      "display_name": "Python 3"
    }
  },
  "cells": [
    {
      "cell_type": "markdown",
      "metadata": {
        "id": "view-in-github",
        "colab_type": "text"
      },
      "source": [
        "<a href=\"https://colab.research.google.com/github/treefield00/UdemyHiramatsu/blob/main/Python%E3%82%A2%E3%83%AB%E3%82%B4%E3%83%AA%E3%82%BA%E3%83%A0%EF%BC%88%E4%B8%AD%E7%B4%9A%E7%B7%A8%EF%BC%89.ipynb\" target=\"_parent\"><img src=\"https://colab.research.google.com/assets/colab-badge.svg\" alt=\"Open In Colab\"/></a>"
      ]
    },
    {
      "cell_type": "markdown",
      "metadata": {
        "id": "NogpD2D1QMRN"
      },
      "source": [
        "# 探索・二分探索木"
      ]
    },
    {
      "cell_type": "markdown",
      "metadata": {
        "id": "5im7yBgstfbo"
      },
      "source": [
        "## 探索とは"
      ]
    },
    {
      "cell_type": "markdown",
      "metadata": {
        "id": "LSL_hHCdtkIj"
      },
      "source": [
        "**データの集合から、目的の要素を探し出す処理**\n",
        "\n"
      ]
    },
    {
      "cell_type": "markdown",
      "metadata": {
        "id": "JDRrnQdduF_r"
      },
      "source": [
        "## 演習問題①"
      ]
    },
    {
      "cell_type": "markdown",
      "metadata": {
        "id": "095g1jeIuBna"
      },
      "source": [
        "配列 [1, 2, 5, 8, 10] において、ランダムに選択される数字ｎ（ｎは1以上10以下の整数）が\n",
        "\n",
        "配列に含まれる場合はその位置（インデックス番号）を、\n",
        "\n",
        "含まれない場合はNoneを返すプログラムを作成してください。"
      ]
    },
    {
      "cell_type": "code",
      "metadata": {
        "id": "QfiSxGXzvQfi",
        "outputId": "45c00186-a573-4218-f316-e64f3c53a162",
        "colab": {
          "base_uri": "https://localhost:8080/",
          "height": 51
        }
      },
      "source": [
        "import random\n",
        "key = random.randint(1, 10)\n",
        "print(str(key) + \"が含まれるかチェック\")\n",
        "\n",
        "#解答①はこの下に記入\n",
        "arr = [1, 2, 5, 8, 10] \n",
        "\n",
        "def search1(key,arr):\n",
        "    for val in arr:\n",
        "        #print(val)\n",
        "        if val == key:\n",
        "            return key\n",
        "    return None\n",
        "\n",
        "print(search1(key,arr))\n",
        "\n"
      ],
      "execution_count": null,
      "outputs": [
        {
          "output_type": "stream",
          "text": [
            "4が含まれるかチェック\n",
            "None\n"
          ],
          "name": "stdout"
        }
      ]
    },
    {
      "cell_type": "code",
      "metadata": {
        "id": "rdA9OiYP1ldB",
        "outputId": "1c749e79-1d08-4e2c-f5ec-12e74f360fbe",
        "colab": {
          "base_uri": "https://localhost:8080/",
          "height": 51
        }
      },
      "source": [
        "import random\n",
        "key = random.randint(1, 10)\n",
        "print(str(key) + \"が含まれるかチェック\")\n",
        "\n",
        "#解答②はこの下に記入\n",
        "\n",
        "def search2(key,arr):\n",
        "    arrtemp = arr[:]\n",
        "    while True:\n",
        "        if len(arrtemp) == 0:\n",
        "            return None\n",
        "        mid = len(arrtemp) // 2    \n",
        "        if arrtemp[mid] == key:\n",
        "            return key\n",
        "        elif arrtemp[mid] > key:\n",
        "            arrtemp = arrtemp[:mid]\n",
        "        elif arrtemp[mid] < key:\n",
        "            arrtemp = arrtemp[mid+1:]\n",
        " \n",
        "    return None\n",
        "\n",
        "def search3(key, arr):\n",
        "    left = 0\n",
        "    right = len(arr)-1\n",
        "    while right >= left:\n",
        "        mid = (right - left)// 2 + left\n",
        "        if arr[mid] == key:\n",
        "            return mid\n",
        "        elif arr[mid] > key:\n",
        "            right = mid - 1\n",
        "        else:\n",
        "            left = mid + 1\n",
        "    return None\n",
        "\n",
        "arr = [1, 2, 5, 8, 10] \n",
        "print(search3(key,arr))\n"
      ],
      "execution_count": null,
      "outputs": [
        {
          "output_type": "stream",
          "text": [
            "3が含まれるかチェック\n",
            "None\n"
          ],
          "name": "stdout"
        }
      ]
    },
    {
      "cell_type": "markdown",
      "metadata": {
        "id": "fxbcJUPJ6TFR"
      },
      "source": [
        "## 二分探索木"
      ]
    },
    {
      "cell_type": "markdown",
      "metadata": {
        "id": "LuoQvOt-6V6J"
      },
      "source": [
        "**「左の子孫の値 ≤ 親の値 ≤ 右の子孫の値」という制約を持つ二分木**"
      ]
    },
    {
      "cell_type": "markdown",
      "metadata": {
        "id": "UM-fVApFAIhN"
      },
      "source": [
        "### グラフとは？"
      ]
    },
    {
      "cell_type": "markdown",
      "metadata": {
        "id": "UTRhzXG4AOhj"
      },
      "source": [
        "**データの集合において、データ間の関係性を表したデータ構造**"
      ]
    },
    {
      "cell_type": "markdown",
      "metadata": {
        "id": "MXLntlV3WDr_"
      },
      "source": [
        "無向グラフ　→　辺に方向がないグラフ\n",
        "\n",
        "有向グラフ　→　辺に方向があるグラフ"
      ]
    },
    {
      "cell_type": "markdown",
      "metadata": {
        "id": "CX1z7S3oApgv"
      },
      "source": [
        "### 木とは？"
      ]
    },
    {
      "cell_type": "markdown",
      "metadata": {
        "id": "rOawO2BtV2rT"
      },
      "source": [
        "**一方向にしか枝分かれしない有向グラフ**"
      ]
    },
    {
      "cell_type": "markdown",
      "metadata": {
        "id": "zc1BYDSIV99J"
      },
      "source": [
        "**木の用語**\n",
        "\n",
        "節点　→　要素のこと\n",
        "\n",
        "根　→　最上部の節点のこと\n",
        "\n",
        "親　→　節点における矢印の先の節点\n",
        "\n",
        "子　→　節点における矢印の元の節点\n",
        "\n",
        "部分木　→　全体の木の一部分にある木構造\n",
        "\n",
        "二分木　→　どの節点も子を2つ以下しか持たない木\n",
        "\n",
        "**二分探索木　→　どの節点においても「左の子孫の値 ≤ 親の値 ≤ 右の子孫の値」という制約を持つ二分木**\n",
        "\n",
        "二分探索木条件　→　「左の子孫の値 ≤ 親の値 ≤ 右の子孫の値」という条件"
      ]
    },
    {
      "cell_type": "markdown",
      "metadata": {
        "id": "aWJ1Mgl0DFH9"
      },
      "source": [
        "### 木の表現方法"
      ]
    },
    {
      "cell_type": "markdown",
      "metadata": {
        "id": "l_IctCGGieyH"
      },
      "source": [
        "木をPythonのプログラムで表現するには、以下の2つの方法がある\n",
        "\n",
        "\n",
        "1.   タプルで表現\n",
        "2.   ノードのクラスで表現\n"
      ]
    },
    {
      "cell_type": "code",
      "metadata": {
        "id": "D6rg-cYaEN0O"
      },
      "source": [
        "#タプルで表す場合\n",
        "tree = (((()1())7(()9()))12(()14(()16())))"
      ],
      "execution_count": null,
      "outputs": []
    },
    {
      "cell_type": "code",
      "metadata": {
        "id": "vdsqUhjSEVeP"
      },
      "source": [
        "#クラスで表す場合\n",
        "class Node:\n",
        "  def __init__(self, value):\n",
        "    self.value = value\n",
        "    self.left = None\n",
        "    self.right = None"
      ],
      "execution_count": null,
      "outputs": []
    },
    {
      "cell_type": "markdown",
      "metadata": {
        "id": "SVDouAW1f446"
      },
      "source": [
        "### 演習問題②（二分探索木への挿入）"
      ]
    },
    {
      "cell_type": "markdown",
      "metadata": {
        "id": "il-450cD66j6"
      },
      "source": [
        "二分探索木は子をたどることによって二分探索ができるデータ構造\n",
        "\n",
        "**データの挿入・削除があっても二分探索木条件を満たし続ける必要がある**"
      ]
    },
    {
      "cell_type": "code",
      "metadata": {
        "id": "yfWPU4Nqn8aB"
      },
      "source": [
        "#疑似コード（二分探索木：挿入）\n",
        "データを挿入できるまで以下の処理を繰り返す\n",
        "  挿入すべき範囲に節点がある場合\n",
        "    節点と挿入するデータを比較する\n",
        "      節点の方が大きければ挿入すべき範囲を左に移す\n",
        "      節点の方が小さければ挿入すべき範囲を右に移す\n",
        "  挿入すべき範囲に節点がない場合\n",
        "    挿入したいデータの値を持つ節点を新たに作って完了"
      ],
      "execution_count": null,
      "outputs": []
    },
    {
      "cell_type": "markdown",
      "metadata": {
        "id": "ev7LUZ1cJer1"
      },
      "source": [
        "以下のBinarySearchTreeクラスに、節点を挿入するinsert()メソッドを定義してください\n",
        "\n",
        "BinarySearchTreeクラスは、インスタンス生成の際に根の値を渡すことで、\n",
        "\n",
        "二分探索木を表現するインスタンスを生成できるクラスで、insert()メソッドは、\n",
        "\n",
        "インスタンス.insert(5)というようにすると、その二分探索木に5が挿入されるようなメソッドであるとします。"
      ]
    },
    {
      "cell_type": "code",
      "metadata": {
        "id": "ekEFPshqf_1f",
        "outputId": "798fcae9-8bff-4401-ad04-6537289c8f7d",
        "colab": {
          "base_uri": "https://localhost:8080/",
          "height": 255
        }
      },
      "source": [
        "class Node:\n",
        "  def __init__(self, value):\n",
        "    self.value = value\n",
        "    self.left = None\n",
        "    self.right = None\n",
        "    \n",
        "#解答はこの下に記入\n",
        "\n",
        "class BinarySearchTree:\n",
        "    def __init__(self, value):\n",
        "        self.root = Node(value)\n",
        "    \n",
        "    def insert(self, insert_val):\n",
        "        current_node = self.root\n",
        "        while current_node:\n",
        "            if current_node.value > insert_val:\n",
        "                if current_node.left is None:\n",
        "                    current_node.left = Node(insert_val)\n",
        "                    break\n",
        "                else:\n",
        "                    current_node = current_node.left\n",
        "            else:\n",
        "                if current_node.right is None:\n",
        "                    current_node.right = Node(insert_val)\n",
        "                    break\n",
        "                else:\n",
        "                    current_node = current_node.right\n",
        "\n",
        "    def inorder(self, node = \"default\"):\n",
        "        if node == \"default\":\n",
        "            node = self.root\n",
        "        current_node = node\n",
        "        if current_node is None:\n",
        "            return []\n",
        "        return self.inorder(current_node.left) + [current_node.value] + self.inorder(current_node.right)\n",
        "\n",
        "    def search(self, val):\n",
        "        pass\n",
        "        current = self.root\n",
        "        while current:\n",
        "            if current.value == val:\n",
        "                return current\n",
        "            if current.value > val:\n",
        "                current = current.left\n",
        "            else:\n",
        "                current = current.right\n",
        "\n",
        "        return None\n",
        "\n",
        "    def delete(self, val):\n",
        "        parent = None\n",
        "        current = self.root\n",
        "        flag = None\n",
        "        print(current.value)\n",
        "\n",
        "        while True:\n",
        "            if current is None:\n",
        "                print(val,\"は、ありません。\")\n",
        "                return\n",
        "\n",
        "            if current.value == val:\n",
        "                print(\"current.value=\",val)\n",
        "                print(\"flag=\",flag)\n",
        "\n",
        "                if current.left is None and current.right is None:\n",
        "                    print(\"NonNon\")\n",
        "                    if flag == \"left\":\n",
        "                        parent.left = None\n",
        "                    elif flag == \"right\":\n",
        "                        parent.right = None\n",
        "                    else:\n",
        "                        current = None\n",
        "                    return\n",
        "                elif current.left is None:\n",
        "                    print(\"No left\")\n",
        "                    if flag == \"left\":\n",
        "                        parent.left = current.right\n",
        "                    elif flag == \"right\":\n",
        "                        parent.right = current.right\n",
        "                    else:\n",
        "                        current = current.right\n",
        "                    return\n",
        "                elif current.right is None:\n",
        "                    print(\"No right\")\n",
        "                    if flag == \"left\":\n",
        "                        parent.left = current.left\n",
        "                    elif flag == \"right\":\n",
        "                        parent.right = current.left\n",
        "                    else:\n",
        "                        current = current.left\n",
        "                    return\n",
        "                else:\n",
        "                    print(\"both\")\n",
        "                    temp = self.delete_min(current)\n",
        "                    temp.right = current.right\n",
        "                    temp.left = current.left\n",
        "\n",
        "                    print(\"both temp\",temp.value)\n",
        "                    print(\"curr\",current.value)\n",
        "                    print(\"curr right\",current.right.value)\n",
        "                    print(\"curr left\",current.left.value)\n",
        "\n",
        "                    if flag == \"left\":\n",
        "                        parent.left = temp\n",
        "                    elif flag == \"right\":\n",
        "                        parent.right = temp\n",
        "                    else:\n",
        "                        #print(\"bothright:\",parent)\n",
        "                        #print(\"bothright:\",parent.right.value)\n",
        "                        current.value = temp.value\n",
        "                    return\n",
        "                    \n",
        "            parent = current\n",
        "\n",
        "            if current.value > val:\n",
        "                current = current.left\n",
        "                flag = \"left\"\n",
        "            else:\n",
        "                current = current.right\n",
        "                flag = \"right\"\n",
        "\n",
        "\n",
        "    def delete_min(self, node):\n",
        "        print(\"called delete_min\")\n",
        "        parent = node\n",
        "        current = node.right\n",
        "        flag = \"rigth\"\n",
        "\n",
        "        while current.left:\n",
        "            parent = current\n",
        "            current = current.left\n",
        "            flag = \"left\"\n",
        "\n",
        "        print(\"flag:\",flag)\n",
        "        if flag == \"left\":\n",
        "            parent.left = current.right\n",
        "        else:\n",
        "            parent.right = current.right\n",
        "\n",
        "        return current\n",
        "                \n",
        "BST = BinarySearchTree(20)\n",
        "print(\"root:\",BST.root.value)\n",
        "BST.insert(1)\n",
        "BST.insert(9)\n",
        "BST.insert(5)\n",
        "BST.insert(2)\n",
        "BST.insert(100)\n",
        "BST.insert(11)\n",
        "BST.insert(19)\n",
        "BST.insert(22)\n",
        "BST.insert(6)\n",
        "BST.insert(3)\n",
        "BST.insert(30)\n",
        "BST.insert(15)\n",
        "BST.insert(7)\n",
        "BST.insert(8)\n",
        "print(\"root:\",BST.root.value)\n",
        "\n",
        "print(BST.inorder())\n",
        "print(BST.search(5))\n",
        "print(BST.search(3))\n",
        "print(BST.search(2))\n",
        "print(BST.search(10))\n",
        "\n",
        "print(BST.inorder())\n",
        "BST.delete(100)\n",
        "print(\"root:\",BST.root.value)\n",
        "print(BST.inorder())\n"
      ],
      "execution_count": null,
      "outputs": [
        {
          "output_type": "stream",
          "text": [
            "root: 20\n",
            "root: 20\n",
            "[1, 2, 3, 5, 6, 7, 8, 9, 11, 15, 19, 20, 22, 30, 100]\n",
            "<__main__.Node object at 0x7fa85e9f04a8>\n",
            "<__main__.Node object at 0x7fa85e9f0160>\n",
            "<__main__.Node object at 0x7fa85e9f02b0>\n",
            "None\n",
            "[1, 2, 3, 5, 6, 7, 8, 9, 11, 15, 19, 20, 22, 30, 100]\n",
            "20\n",
            "current.value= 100\n",
            "flag= right\n",
            "No right\n",
            "root: 20\n",
            "[1, 2, 3, 5, 6, 7, 8, 9, 11, 15, 19, 20, 22, 30]\n"
          ],
          "name": "stdout"
        }
      ]
    },
    {
      "cell_type": "markdown",
      "metadata": {
        "id": "3YpsHu_JNoDW"
      },
      "source": [
        "\n",
        "### 演習問題③（木の巡回）"
      ]
    },
    {
      "cell_type": "markdown",
      "metadata": {
        "id": "CRF_OCmQN1yM"
      },
      "source": [
        "木のすべての節点を組織だった方法で訪問することを**木の巡回**という\n",
        "\n",
        "木の巡回にはいくつかあるが、二分探索木と相性がよい巡回として**中間順巡回**がある"
      ]
    },
    {
      "cell_type": "markdown",
      "metadata": {
        "id": "_YKbn1h5ub73"
      },
      "source": [
        "**中間順巡回（Inorder Tree Walk）**\n",
        "\n",
        "左部分木、根節点、右部分木の順に節点を巡回して出力する方法\n",
        "\n",
        "再帰的なアルゴリズムである"
      ]
    },
    {
      "cell_type": "markdown",
      "metadata": {
        "id": "YbUZ6ENguxsK"
      },
      "source": [
        "**問題**\n",
        "\n",
        "演習問題②で作成した二分探索木を、inoder()メソッドの中間順巡回により出力してください。\n",
        "\n",
        "昇順に出力されれば、二分探索木を正しく実装できていることが確認できます。"
      ]
    },
    {
      "cell_type": "code",
      "metadata": {
        "id": "JpZLu-cG053c"
      },
      "source": [
        "#疑似コード（中間順巡回）\n",
        "inoderは以下の処理を行うメソッド\n",
        "左の部分木をinoderで中間順巡回する\n",
        "根を出力\n",
        "右の部分木をinoderで中間順巡回する"
      ],
      "execution_count": null,
      "outputs": []
    },
    {
      "cell_type": "code",
      "metadata": {
        "id": "36eX_7ZYvQvX"
      },
      "source": [
        "class Node:\n",
        "  def __init__(self, value):\n",
        "    self.value = value\n",
        "    self.left = None\n",
        "    self.right = None\n",
        "    \n",
        "class BinarySearchTree:\n",
        "  def __init__(self, root):\n",
        "    self.root = Node(root)\n",
        "    \n",
        "  def insert(self, key):\n",
        "    node = self.root \n",
        "    while True: #挿入場所が決まるまで繰り返す\n",
        "      if node.value > key: \n",
        "        if node.left is None:\n",
        "          node.left = Node(key)\n",
        "          return\n",
        "        node = node.left\n",
        "      elif node.value <= key:\n",
        "        if node.right is None:\n",
        "          node.right = Node(key)\n",
        "          return\n",
        "        node = node.right\n",
        "\n",
        "#解答はこの下に記入\n"
      ],
      "execution_count": null,
      "outputs": []
    },
    {
      "cell_type": "markdown",
      "metadata": {
        "id": "jj5VVKm09ZkG"
      },
      "source": [
        "### 演習問題④（二分探索木による探索）"
      ]
    },
    {
      "cell_type": "markdown",
      "metadata": {
        "id": "G7dGN1vFDUk6"
      },
      "source": [
        "二分探索木を探索するメソッドである、search()メソッドを定義してみてください。\n",
        "\n",
        "ただしsearch()メソッドは、インスタンス.search(5)というようにすると、\n",
        "\n",
        "5が二分探索木に含まれる場合は「yes」、含まれない場合は「no」と出力するメソッドであるとします。"
      ]
    },
    {
      "cell_type": "code",
      "metadata": {
        "id": "XLyizpmZwach"
      },
      "source": [
        "#疑似コード（二分探索木：探索）\n",
        "データを探索できるまで以下の処理を繰り返す\n",
        "  節点と探索するデータを比較する\n",
        "    節点と等しければ「yes」と出力して探索を終了する\n",
        "    節点の方が大きければ探索範囲を左に移す\n",
        "    節点の方が小さければ探索範囲を右に移す\n",
        "  探索範囲に節点がなければ「no」と出力して探索を終了する"
      ],
      "execution_count": null,
      "outputs": []
    },
    {
      "cell_type": "code",
      "metadata": {
        "id": "jfJTlDQI9dAU"
      },
      "source": [
        "class Node:\n",
        "  def __init__(self, value):\n",
        "    self.value = value\n",
        "    self.left = None\n",
        "    self.right = None\n",
        "    \n",
        "class BinarySearchTree:\n",
        "  def __init__(self, root):\n",
        "    self.root = Node(root)\n",
        "    \n",
        "  def insert(self, key):\n",
        "    node = self.root \n",
        "    while True: #挿入場所が決まるまで繰り返す\n",
        "      if node.value > key: \n",
        "        if node.left is None:\n",
        "          node.left = Node(key)\n",
        "          return\n",
        "        node = node.left\n",
        "      elif node.value <= key:\n",
        "        if node.right is None:\n",
        "          node.right = Node(key)\n",
        "          return\n",
        "        node = node.right\n",
        "       \n",
        "  def inorder(self, node):\n",
        "    if node is None:\n",
        "      return\n",
        "    else:\n",
        "      self.inorder(node.left)\n",
        "      print(node.value)\n",
        "      self.inorder(node.right)\n",
        "\n",
        "#解答はこの下に記入\n"
      ],
      "execution_count": null,
      "outputs": []
    },
    {
      "cell_type": "markdown",
      "metadata": {
        "id": "0LXQNJ7rfqAs"
      },
      "source": [
        "### 演習問題⑤（二分探索木からの削除）"
      ]
    },
    {
      "cell_type": "markdown",
      "metadata": {
        "id": "l8o_KH5IWeyO"
      },
      "source": [
        "二分探索木からの削除を行うメソッドである、delete()メソッドを定義してみてください。\n",
        "\n",
        "ただしdelete()メソッドは、インスタンス.delete(5)というようにすると、\n",
        "\n",
        "5を二分探索木から削除するメソッドであるとします。"
      ]
    },
    {
      "cell_type": "code",
      "metadata": {
        "id": "EI9FajN8v8vw"
      },
      "source": [
        "#疑似コード（二分探索木：削除）\n",
        "探索を行い、削除対象の節点を見つける\n",
        "削除対象の節点の子が0個の場合\n",
        "  削除対象の節点を削除する\n",
        "削除対象の節点の子が1個の場合\n",
        "  削除対象の節点の場所を、削除対象の節点の部分木で置き換える\n",
        "削除対象の節点の子が2個の場合\n",
        "  削除対象の節点の右の部分木の最小値mを削除して、削除対象の節点をmで上書きする"
      ],
      "execution_count": null,
      "outputs": []
    },
    {
      "cell_type": "code",
      "metadata": {
        "id": "kYyBsEsxgAjD"
      },
      "source": [
        "class Node:\n",
        "  def __init__(self, value):\n",
        "    self.value = value\n",
        "    self.left = None\n",
        "    self.right = None\n",
        "    \n",
        "class BinarySearchTree:\n",
        "  def __init__(self, root):\n",
        "    self.root = Node(root)\n",
        "    \n",
        "  def insert(self, key):\n",
        "    node = self.root \n",
        "    while True: #挿入場所が決まるまで繰り返す\n",
        "      if node.value > key: \n",
        "        if node.left is None:\n",
        "          node.left = Node(key)\n",
        "          return\n",
        "        node = node.left\n",
        "      elif node.value <= key:\n",
        "        if node.right is None:\n",
        "          node.right = Node(key)\n",
        "          return\n",
        "        node = node.right\n",
        "        \n",
        "  def search(self,key):\n",
        "    node = self.root\n",
        "    while True:\n",
        "      if node.value == key:\n",
        "        print(\"yes\")\n",
        "        return\n",
        "      elif node.value > key:\n",
        "        node = node.left\n",
        "      else:\n",
        "        node = node.right\n",
        "      if node is None:\n",
        "        print(\"no\")\n",
        "        return\n",
        "    \n",
        "  def inorder(self, node):\n",
        "    if node is not None:\n",
        "      self.inorder(node.left)\n",
        "      print(node.value)\n",
        "      self.inorder(node.right)\n",
        "\n",
        "#解答はこの下に記入\n"
      ],
      "execution_count": null,
      "outputs": []
    },
    {
      "cell_type": "markdown",
      "metadata": {
        "id": "wQeSO1Usu1Yv"
      },
      "source": [
        "# データ構造と探索アルゴリズム"
      ]
    },
    {
      "cell_type": "markdown",
      "metadata": {
        "id": "5Q-Vlsnqu5TY"
      },
      "source": [
        "## スタック"
      ]
    },
    {
      "cell_type": "markdown",
      "metadata": {
        "id": "Hj62lXL97gWE"
      },
      "source": [
        "**データを後入れ先出し（LIFO: Last In First Out）の構造で管理するデータ構造**\n",
        "\n",
        "積み上げた皿は、最後に積んだ皿を最初に取り出すのでスタックといえる"
      ]
    },
    {
      "cell_type": "markdown",
      "metadata": {
        "id": "wk0RdgG67-TH"
      },
      "source": [
        "スタックにデータを追加することを**プッシュ（push）**、\n",
        "\n",
        "スタックからデータを削除することを**ポップ（pop）**という\n",
        "\n",
        "どのデータをpushするか明記する必要があるが、popするデータについては明記する必要はない"
      ]
    },
    {
      "cell_type": "markdown",
      "metadata": {
        "id": "wfUo57t77em0"
      },
      "source": [
        "## キュー"
      ]
    },
    {
      "cell_type": "markdown",
      "metadata": {
        "id": "aNG_tmPoRWNd"
      },
      "source": [
        "**データを先入れ先出し（FIFO: First In First Out）の構造で管理するデータ構造**\n",
        "\n",
        "レジなどの順番待ちの列は、先に並んだ人からサービスを受けられるのでキューといえる"
      ]
    },
    {
      "cell_type": "markdown",
      "metadata": {
        "id": "jhBHJ-NSRt5-"
      },
      "source": [
        "キューにデータを追加することを**エンキュー（enqueue）**、\n",
        "\n",
        "キューからデータを削除することを**デキュー（dequeue）**という\n",
        "\n",
        "どのデータをenqueueするか明記する必要があるが、dequeueするデータについては明記する必要はない"
      ]
    },
    {
      "cell_type": "markdown",
      "metadata": {
        "id": "dXBx5s15Ubfd"
      },
      "source": [
        "## 二分木の探索"
      ]
    },
    {
      "cell_type": "markdown",
      "metadata": {
        "id": "2Y1J4-aUlElm"
      },
      "source": [
        "二分木をスタック（S）とキュー（Q）を用いて探索する"
      ]
    },
    {
      "cell_type": "markdown",
      "metadata": {
        "id": "6PErDUO0nL-L"
      },
      "source": [
        "### スタックの場合"
      ]
    },
    {
      "cell_type": "markdown",
      "metadata": {
        "id": "m2J6rrYqnPQ9"
      },
      "source": [
        "以下のようなアルゴリズムを考えてみる"
      ]
    },
    {
      "cell_type": "code",
      "metadata": {
        "id": "zQ-Lh9z4nQED"
      },
      "source": [
        "#疑似コード（スタックによる二分木の探索）\n",
        "二分木の根をスタック（S）にプッシュする\n",
        "Sが空でないなら以下の処理を繰り返す\n",
        "  Sからデータを1つポップする\n",
        "  ポップしたデータを出力する\n",
        "  ポップしたデータに左の子があれば、その節点の値をSにプッシュする\n",
        "  ポップしたデータに右の子があれば、その節点の値をSにプッシュする"
      ],
      "execution_count": null,
      "outputs": []
    },
    {
      "cell_type": "markdown",
      "metadata": {
        "id": "dbaghx83qCgh"
      },
      "source": [
        "**ちょっと演習**\n",
        "\n",
        "この疑似コードをスライドの二分木に対して行うと、どのような出力結果になるか考えてみてください。"
      ]
    },
    {
      "cell_type": "markdown",
      "metadata": {
        "id": "A_jJNTvOoK4U"
      },
      "source": [
        "### キューの場合"
      ]
    },
    {
      "cell_type": "markdown",
      "metadata": {
        "id": "Bh2rzRM3pIk5"
      },
      "source": [
        "同様に以下のようなアルゴリズムを考えてみる\n",
        "\n",
        "上で見た疑似コードの**スタックがキューに変わっているだけ**であることに注意"
      ]
    },
    {
      "cell_type": "code",
      "metadata": {
        "id": "BPZ1k_UDoHDQ"
      },
      "source": [
        "#疑似コード（キューによる二分木の探索）\n",
        "二分木の根をキュー（Q）にエンキューする\n",
        "Qが空でないなら以下の処理を繰り返す\n",
        "  Qからデータを1つデキューする\n",
        "  デキューしたデータを出力する\n",
        "  デキューしたデータに左の子があれば、その節点の値をQにエンキューする\n",
        "  デキューしたデータに右の子があれば、その節点の値をQにエンキューする"
      ],
      "execution_count": null,
      "outputs": []
    },
    {
      "cell_type": "markdown",
      "metadata": {
        "id": "dMMxmCOAqkhr"
      },
      "source": [
        "**ちょっと演習**\n",
        "\n",
        "この疑似コードをスライドの二分木に対して行うと、どのような出力結果になるか考えてみてください。"
      ]
    },
    {
      "cell_type": "markdown",
      "metadata": {
        "id": "V7gLgI8GqtTc"
      },
      "source": [
        "二分木の探索において、データ構造の選択によって以下のようなアルゴリズムの違いが生まれた\n",
        "\n",
        "スタック　⇒　深さ優先探索（depth-first-search）\n",
        "\n",
        "キュー　　⇒　幅優先探索（breadth-first-search）"
      ]
    },
    {
      "cell_type": "markdown",
      "metadata": {
        "id": "g8etHEBP6NRR"
      },
      "source": [
        "## 演習問題⑥"
      ]
    },
    {
      "cell_type": "markdown",
      "metadata": {
        "id": "ojk7wu6s6S3F"
      },
      "source": [
        "深さ優先探索と幅優先探索を実装してください。\n",
        "\n",
        "ただし二分木btはタプルで以下のように与えられているとします。"
      ]
    },
    {
      "cell_type": "code",
      "metadata": {
        "id": "RwJIv-BY8QyF"
      },
      "source": [
        "#解答はこの下に記入\n",
        "bt = ((((),\"A3\",()),\"A2\",((),\"B3\",())),\"A1\",(((),\"C3\",()),\"B2\",((),\"D3\",())))\n",
        "\n",
        "#深さ優先探索\n",
        "def depth_first_search():\n",
        "    stack = []\n",
        "    def dfs(bt):\n",
        "        if len(stack) == 0:\n",
        "            return\n",
        "        else:\n",
        "            stack.pop()\n",
        "            stack.push(bt[1])\n",
        "        return [stack.pop()] + dfs()\n",
        "\n",
        "\n",
        "\n",
        "    return dfs\n",
        "\n",
        "\n",
        "\n",
        "    \n",
        "def width-first-search(bt):\n",
        "    pass\n",
        "\n"
      ],
      "execution_count": null,
      "outputs": []
    },
    {
      "cell_type": "code",
      "metadata": {
        "id": "RvQKtf-T2e_r",
        "outputId": "3d1a9bc9-1f8a-4c93-8caf-ecfa6eb733be",
        "colab": {
          "base_uri": "https://localhost:8080/",
          "height": 125
        }
      },
      "source": [
        "from collections import deque\n",
        "\n",
        "d = deque()\n",
        "print(d)\n",
        "\n",
        "d.append(\"A\")\n",
        "d.append(\"B\")\n",
        "d.append(\"C\")\n",
        "print(d)\n",
        "\n",
        "print(d.pop())\n",
        "print(d)\n",
        "\n",
        "print(d.popleft())\n",
        "print(d)"
      ],
      "execution_count": null,
      "outputs": [
        {
          "output_type": "stream",
          "text": [
            "deque([])\n",
            "deque(['A', 'B', 'C'])\n",
            "C\n",
            "deque(['A', 'B'])\n",
            "A\n",
            "deque(['B'])\n"
          ],
          "name": "stdout"
        }
      ]
    },
    {
      "cell_type": "code",
      "metadata": {
        "id": "W4NYU9uxs9mU"
      },
      "source": [
        "#疑似コード（スタックによる二分木の探索）\n",
        "二分木の根をスタック（S）にプッシュする\n",
        "Sが空でないなら以下の処理を繰り返す\n",
        "  Sからデータを1つポップする\n",
        "  ポップしたデータを出力する\n",
        "  ポップしたデータに左の子があれば、その節点の値をSにプッシュする\n",
        "  ポップしたデータに右の子があれば、その節点の値をSにプッシュする"
      ],
      "execution_count": null,
      "outputs": []
    },
    {
      "cell_type": "code",
      "metadata": {
        "id": "st4E9tRCs_YS"
      },
      "source": [
        "#疑似コード（キューによる二分木の探索）\n",
        "二分木の根をキュー（Q）にエンキューする\n",
        "Qが空でないなら以下の処理を繰り返す\n",
        "  Qからデータを1つデキューする\n",
        "  デキューしたデータを出力する\n",
        "  デキューしたデータに左の子があれば、その節点の値をQにエンキューする\n",
        "  デキューしたデータに右の子があれば、その節点の値をQにエンキューする"
      ],
      "execution_count": null,
      "outputs": []
    },
    {
      "cell_type": "markdown",
      "metadata": {
        "id": "hFDIC4vx4arU"
      },
      "source": [
        "# データ構造を利用したソートアルゴリズム"
      ]
    },
    {
      "cell_type": "markdown",
      "metadata": {
        "id": "MFo8sCLh4nTH"
      },
      "source": [
        "データを昇順に並べ替える際に、選択ソートでは\n",
        "\n",
        "1.   最小値を見つける\n",
        "2.   最小値を先頭と交換する\n",
        "\n",
        "という流れによってソートを行った\n",
        "\n",
        "最小値を見つける手間が一定になるデータ構造として**（二分）ヒープ**がある"
      ]
    },
    {
      "cell_type": "markdown",
      "metadata": {
        "id": "7_bi-jZsWZnk"
      },
      "source": [
        "## ヒープ"
      ]
    },
    {
      "cell_type": "markdown",
      "metadata": {
        "id": "fMVJE_K0YuG5"
      },
      "source": [
        "**ヒープ条件を満たしている完全二分木のデータ構造**"
      ]
    },
    {
      "cell_type": "markdown",
      "metadata": {
        "id": "j9Vtr6b5ZniI"
      },
      "source": [
        "### 完全二分木とは？"
      ]
    },
    {
      "cell_type": "markdown",
      "metadata": {
        "id": "e6awvzfmZx6v"
      },
      "source": [
        "**すべての葉が同じ深さを持ち、葉以外のすべての節点が子を2つもつ二分木のこと**"
      ]
    },
    {
      "cell_type": "markdown",
      "metadata": {
        "id": "HDShetCfarHW"
      },
      "source": [
        "葉　→　子を持たない節点\n",
        "\n",
        "深さ　→　根から節点までの長さ\n",
        "\n",
        "広義の完全二分木　→　最下位レベルの葉が左から順番に埋まっている二分木\n"
      ]
    },
    {
      "cell_type": "markdown",
      "metadata": {
        "id": "xN0d2SG6iiit"
      },
      "source": [
        "**完全二分木は配列と一対一に対応する**"
      ]
    },
    {
      "cell_type": "markdown",
      "metadata": {
        "id": "b7r6VTDVZvFX"
      },
      "source": [
        "### ヒープ条件とは？"
      ]
    },
    {
      "cell_type": "markdown",
      "metadata": {
        "id": "SfZs-06FdVO1"
      },
      "source": [
        "ヒープ条件には、max-ヒープ条件とmin-ヒープ条件がある\n",
        "\n",
        "**max-ヒープ条件**　→　節点の値がその親の値以下である\n",
        "\n",
        "**min-ヒープ条件**　→　節点の値がその親の値以上である"
      ]
    },
    {
      "cell_type": "markdown",
      "metadata": {
        "id": "aPZVwC9LmQj0"
      },
      "source": [
        "二分探索木と違って、**親子間にのみ制約**があることに注意"
      ]
    },
    {
      "cell_type": "markdown",
      "metadata": {
        "id": "u3TW0T2ukojI"
      },
      "source": [
        "### ヒープの構築"
      ]
    },
    {
      "cell_type": "markdown",
      "metadata": {
        "id": "eTXXKfcZkqlG"
      },
      "source": [
        "完全二分木は配列で表すことができたので、ヒープも配列で表現できる\n",
        "\n",
        "ヒープでない完全二分木からヒープを構築する方法について考える"
      ]
    },
    {
      "cell_type": "code",
      "metadata": {
        "id": "LDpsAOe2kwaC"
      },
      "source": [
        "#疑似コード（min-ヒープの構築）\n",
        "子を持つ節点すべてに以下の処理をボトムアップに行う\n",
        "min_heapifyによって節点を左右の子と比較してmin-ヒープが成り立っているか確認する\n",
        "  成り立っていないなら\n",
        "    最小値の子と親の値を交換する\n",
        "    交換前は最小値があった節点においてmin_heapifyを再帰的に行う"
      ],
      "execution_count": null,
      "outputs": []
    },
    {
      "cell_type": "markdown",
      "metadata": {
        "id": "Lx0XSFs2lXoJ"
      },
      "source": [
        "### 演習問題⑦"
      ]
    },
    {
      "cell_type": "markdown",
      "metadata": {
        "id": "7nZt06galfPw"
      },
      "source": [
        "配列  [17, 11, 12, 5, 14, 9, 6, 16, 4, 10, 1, 19, 13, 15, 0, 2, 3, 18, 7, 8]  からmin-ヒープを構築するプログラムを作成してください。"
      ]
    },
    {
      "cell_type": "code",
      "metadata": {
        "id": "eUvjaJehlegi",
        "colab": {
          "base_uri": "https://localhost:8080/",
          "height": 85
        },
        "outputId": "1fc92d0c-0466-497c-99e8-1e03d5417df3"
      },
      "source": [
        "#解答はこの下に記入\n",
        "org_arr= [17, 11, 12, 5, 14, 9, 6, 16, 4, 10, 1, 19, 13, 15, 0, 2, 3, 18, 7, 8] \n",
        "print(len(org_arr))\n",
        "\n",
        "#1\n",
        "#11\n",
        "#1111\n",
        "#11111111\n",
        "#11111\n",
        "\n",
        "def build_min_heap(arr):\n",
        "    for i in reversed(range(len(arr)//2)):\n",
        "        min_heapify(arr, i)\n",
        "\n",
        "def min_heapify(arr, i):\n",
        "    length = len(arr) - 1\n",
        "    left = i*2+1\n",
        "    right = i*2+2\n",
        "    #print(\"length:\",length)\n",
        "    smallest = i\n",
        "    if length >= right and arr[i] > arr[right]:\n",
        "        smallest = right\n",
        "    if length >= left and arr[smallest] > arr[left]:\n",
        "        smallest = left\n",
        "    if smallest != i:\n",
        "        arr[i],arr[smallest] = arr[smallest],arr[i]\n",
        "        min_heapify(arr, smallest)\n",
        "\n",
        "\n",
        "\n",
        "def heap_sort(arr):\n",
        "    target = []\n",
        "    for _ in range(len(org_arr)):\n",
        "        build_min_heap(org_arr)\n",
        "        #target.append(org_arr.pop(0))\n",
        "        arr[0],arr[-1] = arr[-1],arr[0]\n",
        "        target.append(org_arr.pop())\n",
        "    return target\n",
        "\n",
        "print(org_arr)\n",
        "print(heap_sort(org_arr))\n",
        "print(org_arr)\n",
        "\n"
      ],
      "execution_count": null,
      "outputs": [
        {
          "output_type": "stream",
          "text": [
            "20\n",
            "[17, 11, 12, 5, 14, 9, 6, 16, 4, 10, 1, 19, 13, 15, 0, 2, 3, 18, 7, 8]\n",
            "[0, 1, 2, 3, 4, 5, 6, 7, 8, 9, 10, 11, 12, 13, 14, 15, 16, 17, 18, 19]\n",
            "[]\n"
          ],
          "name": "stdout"
        }
      ]
    },
    {
      "cell_type": "markdown",
      "metadata": {
        "id": "OkTnAc-cjodw"
      },
      "source": [
        "## ヒープソート"
      ]
    },
    {
      "cell_type": "markdown",
      "metadata": {
        "id": "n_wU6n69h50z"
      },
      "source": [
        "このヒープというデータ構造を利用したソートアルゴリズムを**ヒープソート**という"
      ]
    },
    {
      "cell_type": "markdown",
      "metadata": {
        "id": "D4ecDii8lbL-"
      },
      "source": [
        "min-ヒープを構築すると根が最小値になるので、最小値を発見する手法としてヒープの構築を使える\n",
        "\n",
        "根を削除した配列に対して再びヒープの構築を行うとまた根が最小値になる\n",
        "\n",
        "これを繰り返していくことによって選択ソートのようなソートアルゴリズムを実現できる"
      ]
    },
    {
      "cell_type": "code",
      "metadata": {
        "id": "EjSgRHzB42iT"
      },
      "source": [
        "#疑似コード（ヒープソート）\n",
        "以下の操作を配列の要素の数だけ繰り返す\n",
        "①min-ヒープの構築によって最小値を配列の先頭に移動する\n",
        "②先頭の要素を除いた配列に対してこの処理を繰り返す"
      ],
      "execution_count": null,
      "outputs": []
    },
    {
      "cell_type": "markdown",
      "metadata": {
        "id": "mAM6O9Hx4gCb"
      },
      "source": [
        "### 演習問題⑧"
      ]
    },
    {
      "cell_type": "markdown",
      "metadata": {
        "id": "yHekrSlM4iRa"
      },
      "source": [
        "配列 [17, 11, 12, 5, 14, 9, 6, 16, 4, 10, 1, 19, 13, 15, 0, 2, 3, 18, 7, 8] をヒープソートによって小さい順に並べ替えてください。"
      ]
    },
    {
      "cell_type": "code",
      "metadata": {
        "id": "wsLbP9eQZATs"
      },
      "source": [
        "#解答はこの下に記入\n"
      ],
      "execution_count": null,
      "outputs": []
    },
    {
      "cell_type": "markdown",
      "metadata": {
        "id": "bxmBu9sDmM0J"
      },
      "source": [
        "# 解答"
      ]
    },
    {
      "cell_type": "markdown",
      "metadata": {
        "id": "Z32oEXPPsr_M"
      },
      "source": [
        "## 演習問題①"
      ]
    },
    {
      "cell_type": "markdown",
      "metadata": {
        "id": "CoVKfwnQ005I"
      },
      "source": [
        "配列 [1, 2, 5, 8, 10] において、ランダムに選択される数字ｎ（ｎは1以上10以下の整数）が\n",
        "\n",
        "配列に含まれる場合はその位置（インデックス番号）を、\n",
        "\n",
        "含まれない場合はNoneを返すプログラムを作成してください。"
      ]
    },
    {
      "cell_type": "code",
      "metadata": {
        "id": "JMWutoYMydX1",
        "outputId": "e94c426d-8ff7-4e0e-c593-5d5915441c80",
        "colab": {
          "base_uri": "https://localhost:8080/",
          "height": 53
        }
      },
      "source": [
        "#線形探索\n",
        "import random\n",
        "key = random.randint(1, 10)\n",
        "print(str(key) + \"が含まれるかチェック\")\n",
        "\n",
        "def linear_search(arr):\n",
        "  for i in range(0, len(arr)):\n",
        "    if key == arr[i]:\n",
        "      return i\n",
        "  return None\n",
        "\n",
        "s_list = [1, 2, 5, 8, 10]\n",
        "print(linear_search(s_list))"
      ],
      "execution_count": null,
      "outputs": [
        {
          "output_type": "stream",
          "text": [
            "2が含まれるかチェック\n",
            "1\n"
          ],
          "name": "stdout"
        }
      ]
    },
    {
      "cell_type": "code",
      "metadata": {
        "id": "2IDZ0WifyfrL",
        "outputId": "bfe6c06f-da24-451b-9393-de4704e83298",
        "colab": {
          "base_uri": "https://localhost:8080/",
          "height": 53
        }
      },
      "source": [
        "#二分探索\n",
        "import random\n",
        "key = random.randint(1, 10)\n",
        "print(str(key) + \"が含まれるかチェック\")\n",
        "\n",
        "def binary_search(arr):\n",
        "  left = 0\n",
        "  right = len(arr)\n",
        "  while left < right:\n",
        "    mid = (left + right) // 2\n",
        "    if arr[mid] == key:\n",
        "      return mid\n",
        "    elif arr[mid] > key:\n",
        "      right = mid\n",
        "    else:\n",
        "      left = mid + 1\n",
        "  return None\n",
        "\n",
        "s_list = [1, 2, 5, 8, 10]\n",
        "print(binary_search(s_list))"
      ],
      "execution_count": null,
      "outputs": [
        {
          "output_type": "stream",
          "text": [
            "2が含まれるかチェック\n",
            "1\n"
          ],
          "name": "stdout"
        }
      ]
    },
    {
      "cell_type": "markdown",
      "metadata": {
        "id": "otUizOM-4Sw9"
      },
      "source": [
        "二分探索は「ソート済みの配列」にのみ使えるアルゴリズムだった\n",
        "\n",
        "→　**「ソート済みの配列」というのは「ただの配列」とは異なるデータ構造**であると言える"
      ]
    },
    {
      "cell_type": "markdown",
      "metadata": {
        "id": "OWwlyczJg1vo"
      },
      "source": [
        "データ構造　→　**データの集合の①格納規則と②操作方法を決定するもの**"
      ]
    },
    {
      "cell_type": "markdown",
      "metadata": {
        "id": "fs0z7Ls85KMT"
      },
      "source": [
        "一定のルールに従ってデータが管理されていると、その**ルールを利用することで**\n",
        "\n",
        "**問題の解決が容易に行えるようになる(アルゴリズムの効率が良くなる)** ことがわかる\n",
        "\n",
        "→　問題の性質に応じて最適なデータ構造を選択することで、アルゴリズムをより効率的にできる\n",
        "\n",
        "→　これがデータ構造の意義、重要性"
      ]
    },
    {
      "cell_type": "markdown",
      "metadata": {
        "id": "5B0Kc8z762QL"
      },
      "source": [
        "ここからは、**動的な集合**について考える\n",
        "\n",
        "動的な集合　→　要素の**追加**や**削除**が行われる集合のこと\n",
        "\n",
        "動的な集合を扱う上でのポイントは、追加や削除の操作を行ったとしても、\n",
        "\n",
        "**データの格納のルールが守られてる状態を維持する**こと\n",
        "\n",
        "二分探索ができる、かつ動的な集合を扱う際には**二分探索木**というデータ構造が適している"
      ]
    },
    {
      "cell_type": "markdown",
      "metadata": {
        "id": "upJ9DkJgkxM6"
      },
      "source": [
        "## 演習問題②"
      ]
    },
    {
      "cell_type": "markdown",
      "metadata": {
        "id": "jKMy-RuoKx8i"
      },
      "source": [
        "以下のBinarySearchTreeクラスに、節点を挿入するinsert()メソッドを定義してください\n",
        "\n",
        "BinarySearchTreeクラスは、インスタンス生成の際に根の値を渡すことで、\n",
        "\n",
        "二分探索木を表現するインスタンスを生成できるクラスで、insert()メソッドは、\n",
        "\n",
        "インスタンス.insert(5)というようにすると、その二分探索木に5が挿入されるようなメソッドであるとします。"
      ]
    },
    {
      "cell_type": "code",
      "metadata": {
        "id": "dSS0csWV7ZML"
      },
      "source": [
        "#疑似コード（二分探索木：挿入）\n",
        "データを挿入できるまで以下の処理を繰り返す\n",
        "  挿入すべき範囲に節点がある場合\n",
        "    節点と挿入するデータを比較する\n",
        "      節点の方が大きければ挿入すべき範囲を左に移す\n",
        "      節点の方が小さければ挿入すべき範囲を右に移す\n",
        "  挿入すべき範囲に節点がない場合\n",
        "    挿入したいデータの値を持つ節点を新たに作って完了"
      ],
      "execution_count": null,
      "outputs": []
    },
    {
      "cell_type": "code",
      "metadata": {
        "id": "XnGp1QrCK0N9"
      },
      "source": [
        "class Node:\n",
        "  def __init__(self, value):\n",
        "    self.value = value\n",
        "    self.left = None\n",
        "    self.right = None\n",
        "    \n",
        "class BinarySearchTree:\n",
        "  def __init__(self, root):\n",
        "    self.root = Node(root)\n",
        "    \n",
        "  def insert(self, key):\n",
        "    node = self.root \n",
        "    while True: #挿入場所が決まるまで繰り返す\n",
        "      if node.value > key: \n",
        "        if node.left is None:\n",
        "          node.left = Node(key)\n",
        "          return\n",
        "        node = node.left\n",
        "      elif node.value <= key:\n",
        "        if node.right is None:\n",
        "          node.right = Node(key)\n",
        "          return\n",
        "        node = node.right\n",
        "        \n",
        "      \n",
        "t = BinarySearchTree(7)\n",
        "t.insert(3)\n",
        "t.insert(9)\n",
        "t.insert(1)\n",
        "t.insert(5)"
      ],
      "execution_count": null,
      "outputs": []
    },
    {
      "cell_type": "markdown",
      "metadata": {
        "id": "c_Jaga9GzNJ0"
      },
      "source": [
        "## 演習問題③"
      ]
    },
    {
      "cell_type": "markdown",
      "metadata": {
        "id": "F_iYt7GOKyv5"
      },
      "source": [
        "演習問題②で作成した二分探索木を、inoder()メソッドの中間順巡回により出力してください。\n",
        "\n",
        "昇順に出力されれば、二分探索木を正しく実装できていることが確認できます。"
      ]
    },
    {
      "cell_type": "code",
      "metadata": {
        "id": "0BRS0iTmAMFS"
      },
      "source": [
        "#疑似コード（中間順巡回）\n",
        "inoderは以下の処理を行うメソッド\n",
        "左の部分木をinoderで中間順巡回する\n",
        "根を出力\n",
        "右の部分木をinoderで中間順巡回する"
      ],
      "execution_count": null,
      "outputs": []
    },
    {
      "cell_type": "code",
      "metadata": {
        "id": "zdKteZDKKzvv",
        "outputId": "4c045aff-cbbd-43d1-8c41-f3110734ae0c",
        "colab": {
          "base_uri": "https://localhost:8080/",
          "height": 107
        }
      },
      "source": [
        "class Node:\n",
        "  def __init__(self, value):\n",
        "    self.value = value\n",
        "    self.left = None\n",
        "    self.right = None\n",
        "    \n",
        "class BinarySearchTree:\n",
        "  def __init__(self, root):\n",
        "    self.root = Node(root)\n",
        "    \n",
        "  def insert(self, key):\n",
        "    node = self.root \n",
        "    while True: #挿入場所が決まるまで繰り返す\n",
        "      if node.value > key: \n",
        "        if node.left is None:\n",
        "          node.left = Node(key)\n",
        "          return\n",
        "        node = node.left\n",
        "      elif node.value <= key:\n",
        "        if node.right is None:\n",
        "          node.right = Node(key)\n",
        "          return\n",
        "        node = node.right\n",
        "       \n",
        "  def inorder(self, node):\n",
        "    if node is None:\n",
        "      return\n",
        "    else:\n",
        "      self.inorder(node.left)\n",
        "      print(node.value)\n",
        "      self.inorder(node.right)\n",
        "      \n",
        "t = BinarySearchTree(7)\n",
        "t.insert(3)\n",
        "t.insert(9)\n",
        "t.insert(1)\n",
        "t.insert(5)\n",
        "t.inorder(t.root)"
      ],
      "execution_count": null,
      "outputs": [
        {
          "output_type": "stream",
          "text": [
            "1\n",
            "3\n",
            "5\n",
            "7\n",
            "9\n"
          ],
          "name": "stdout"
        }
      ]
    },
    {
      "cell_type": "markdown",
      "metadata": {
        "id": "9R9T9zMS5320"
      },
      "source": [
        "## 演習問題④"
      ]
    },
    {
      "cell_type": "markdown",
      "metadata": {
        "id": "d6EK4AioKzK4"
      },
      "source": [
        "二分探索木を探索するメソッドである、search()メソッドを定義してみてください。\n",
        "\n",
        "ただしsearch()メソッドは、インスタンス.search(5)というようにすると、\n",
        "\n",
        "5が二分探索木に含まれる場合は「yes」、含まれない場合は「no」と出力するメソッドであるとします。"
      ]
    },
    {
      "cell_type": "code",
      "metadata": {
        "id": "MtTchvE1aaeO"
      },
      "source": [
        "#疑似コード（二分探索木：探索）\n",
        "データを探索できるまで以下の処理を繰り返す\n",
        "  節点と探索するデータを比較する\n",
        "    節点と等しければ「yes」と出力して探索を終了する\n",
        "    節点の方が大きければ探索範囲を左に移す\n",
        "    節点の方が小さければ探索範囲を右に移す\n",
        "  探索範囲に節点がなければ「no」と出力して探索を終了する"
      ],
      "execution_count": null,
      "outputs": []
    },
    {
      "cell_type": "code",
      "metadata": {
        "id": "CIWFheVDbuBs",
        "outputId": "51d3511b-4bac-4771-a2ff-851a2ef28c36",
        "colab": {
          "base_uri": "https://localhost:8080/",
          "height": 71
        }
      },
      "source": [
        "class Node:\n",
        "  def __init__(self, value):\n",
        "    self.value = value\n",
        "    self.left = None\n",
        "    self.right = None\n",
        "    \n",
        "class BinarySearchTree:\n",
        "  def __init__(self, root):\n",
        "    self.root = Node(root)\n",
        "    \n",
        "  def insert(self, key):\n",
        "    node = self.root \n",
        "    while True: #挿入場所が決まるまで繰り返す\n",
        "      if node.value > key: \n",
        "        if node.left is None:\n",
        "          node.left = Node(key)\n",
        "          return\n",
        "        node = node.left\n",
        "      elif node.value <= key:\n",
        "        if node.right is None:\n",
        "          node.right = Node(key)\n",
        "          return\n",
        "        node = node.right\n",
        "        \n",
        "  def search(self,key):\n",
        "    node = self.root\n",
        "    while True:\n",
        "      if node.value == key:\n",
        "        print(\"yes\")\n",
        "        return\n",
        "      elif node.value > key:\n",
        "        node = node.left\n",
        "      else:\n",
        "        node = node.right\n",
        "      if node is None:\n",
        "        print(\"no\")\n",
        "        return\n",
        "    \n",
        "  def inorder(self, node):\n",
        "    if node is not None:\n",
        "      self.inorder(node.left)\n",
        "      print(node.value)\n",
        "      self.inorder(node.right)\n",
        "      \n",
        "t = BinarySearchTree(7)\n",
        "t.insert(3)\n",
        "t.insert(9)\n",
        "t.insert(1)\n",
        "t.insert(5)\n",
        "t.search(5)\n",
        "t.search(4)\n",
        "t.search(9)"
      ],
      "execution_count": null,
      "outputs": [
        {
          "output_type": "stream",
          "text": [
            "yes\n",
            "no\n",
            "yes\n"
          ],
          "name": "stdout"
        }
      ]
    },
    {
      "cell_type": "markdown",
      "metadata": {
        "id": "9_DQgh6SyRuP"
      },
      "source": [
        "## 演習問題⑤"
      ]
    },
    {
      "cell_type": "markdown",
      "metadata": {
        "id": "Rv6XbG4oK1Oe"
      },
      "source": [
        "二分探索木からの削除を行うメソッドである、delete()メソッドを定義してみてください。\n",
        "\n",
        "ただしdelete()メソッドは、インスタンス.delete(5)というようにすると、\n",
        "\n",
        "5を二分探索木から削除するメソッドであるとします。"
      ]
    },
    {
      "cell_type": "code",
      "metadata": {
        "id": "VOB-gYKOAQfd"
      },
      "source": [
        "#疑似コード（二分探索木：削除）\n",
        "探索を行い、削除対象の節点を見つける\n",
        "削除対象の節点の子が0個の場合\n",
        "  削除対象の節点を削除する\n",
        "削除対象の節点の子が1個の場合\n",
        "  削除対象の節点の場所を、削除対象の節点の部分木で置き換える\n",
        "削除対象の節点の子が2個の場合\n",
        "  削除対象の節点の右の部分木の最小値mを削除して、削除対象の節点をmで上書きする"
      ],
      "execution_count": null,
      "outputs": []
    },
    {
      "cell_type": "code",
      "metadata": {
        "id": "a44n5-PzK00O",
        "outputId": "4fa94d7e-f769-40bb-c8a1-24d3bfd265e9",
        "colab": {
          "base_uri": "https://localhost:8080/",
          "height": 351
        }
      },
      "source": [
        "class Node:\n",
        "  def __init__(self, value):\n",
        "    self.value = value\n",
        "    self.left = None\n",
        "    self.right = None\n",
        "    \n",
        "class BinarySearchTree:\n",
        "  def __init__(self, root):\n",
        "    self.root = Node(root)\n",
        "    \n",
        "  def insert(self, key):\n",
        "    node = self.root \n",
        "    while True: #挿入場所が決まるまで繰り返す\n",
        "      if node.value > key: \n",
        "        if node.left is None:\n",
        "          node.left = Node(key)\n",
        "          return\n",
        "        node = node.left\n",
        "      elif node.value <= key:\n",
        "        if node.right is None:\n",
        "          node.right = Node(key)\n",
        "          return\n",
        "        node = node.right\n",
        "        \n",
        "  def search(self,key):\n",
        "    node = self.root\n",
        "    while True:\n",
        "      if node.value == key:\n",
        "        print(\"yes\")\n",
        "        return\n",
        "      elif node.value > key:\n",
        "        node = node.left\n",
        "      else:\n",
        "        node = node.right\n",
        "      if node is None:\n",
        "        print(\"no\")\n",
        "        return\n",
        "      \n",
        "  def delete_min(self, node):\n",
        "    parent = node\n",
        "    tmp = node.right #右の部分木\n",
        "    count = 0\n",
        "    #右の部分木の最小値を探す\n",
        "    while tmp.left is not None: #左の子がNone、つまり最小値がtmpに入るまで繰り返す\n",
        "      parent = tmp\n",
        "      tmp = tmp.left\n",
        "      count += 1\n",
        "    #右の部分木の内容によって削除方法の場合分け\n",
        "    if count == 0: #削除対象の右の子が最小値なら\n",
        "      parent.right = tmp.right\n",
        "    else:\n",
        "      parent.left = tmp.right\n",
        "    return tmp #最小値の節点を返す\n",
        "    \n",
        "  def delete(self, key):\n",
        "    node = self.root\n",
        "\n",
        "    while True:\n",
        "      if node is None:\n",
        "        print(str(key) + \"の節点はありません\")\n",
        "        return\n",
        "      \n",
        "      #削除対象の節点が見つかったときの処理\n",
        "      if node.value == key:\n",
        "        if node.left is None and node.right is None: #子を持たない場合\n",
        "          if flag == \"left\": #節点が左の子なら\n",
        "            parent.left = None\n",
        "          else: #節点が右の子なら\n",
        "            parent.right = None\n",
        "          return\n",
        "            \n",
        "        elif node.left is None: #子を1つ持ち、それが右の子である場合\n",
        "          if flag == \"left\":\n",
        "            parent.left = node.right\n",
        "          else:\n",
        "            parent.right = node.right\n",
        "          return\n",
        "        \n",
        "        elif node.right is None: #子を1つ持ち、それが左の子である場合\n",
        "          if flag == \"left\":\n",
        "            parent.left = node.left\n",
        "          else:\n",
        "            parent.right = node.left\n",
        "          return\n",
        "        \n",
        "        else: #子を2つ持つ場合\n",
        "          tmp = self.delete_min(node)\n",
        "          if flag == \"left\": #親の調整\n",
        "            parent.left = tmp\n",
        "          else:\n",
        "            parent.right = tmp\n",
        "          #削除対象の節点を右の部分木の最小値と置き換える（子の調整）\n",
        "          tmp.left = node.left\n",
        "          tmp.right = node.right\n",
        "          return\n",
        "          \n",
        "      #削除対象の節点の探索と親子の節点の更新\n",
        "      parent = node\n",
        "      if node.value > key:\n",
        "        node = node.left\n",
        "        flag = \"left\"\n",
        "      else:\n",
        "        node = node.right\n",
        "        flag = \"right\"\n",
        "            \n",
        "  def inorder(self, node):\n",
        "    if node is not None:\n",
        "      self.inorder(node.left)\n",
        "      print(node.value)\n",
        "      self.inorder(node.right)\n",
        "      \n",
        "t = BinarySearchTree(1)\n",
        "t.insert(3)\n",
        "t.insert(2)\n",
        "t.insert(9)\n",
        "t.insert(8)\n",
        "t.insert(5)\n",
        "t.insert(7)\n",
        "t.insert(10)\n",
        "t.delete(2)\n",
        "t.delete(0)\n",
        "t.delete(1)\n",
        "t.inorder(t.root)"
      ],
      "execution_count": null,
      "outputs": [
        {
          "output_type": "stream",
          "text": [
            "0の節点はありません\n"
          ],
          "name": "stdout"
        },
        {
          "output_type": "error",
          "ename": "UnboundLocalError",
          "evalue": "ignored",
          "traceback": [
            "\u001b[0;31m---------------------------------------------------------------------------\u001b[0m",
            "\u001b[0;31mUnboundLocalError\u001b[0m                         Traceback (most recent call last)",
            "\u001b[0;32m<ipython-input-63-c93deb1f4c22>\u001b[0m in \u001b[0;36m<module>\u001b[0;34m()\u001b[0m\n\u001b[1;32m    120\u001b[0m \u001b[0mt\u001b[0m\u001b[0;34m.\u001b[0m\u001b[0mdelete\u001b[0m\u001b[0;34m(\u001b[0m\u001b[0;36m2\u001b[0m\u001b[0;34m)\u001b[0m\u001b[0;34m\u001b[0m\u001b[0;34m\u001b[0m\u001b[0m\n\u001b[1;32m    121\u001b[0m \u001b[0mt\u001b[0m\u001b[0;34m.\u001b[0m\u001b[0mdelete\u001b[0m\u001b[0;34m(\u001b[0m\u001b[0;36m0\u001b[0m\u001b[0;34m)\u001b[0m\u001b[0;34m\u001b[0m\u001b[0;34m\u001b[0m\u001b[0m\n\u001b[0;32m--> 122\u001b[0;31m \u001b[0mt\u001b[0m\u001b[0;34m.\u001b[0m\u001b[0mdelete\u001b[0m\u001b[0;34m(\u001b[0m\u001b[0;36m1\u001b[0m\u001b[0;34m)\u001b[0m\u001b[0;34m\u001b[0m\u001b[0;34m\u001b[0m\u001b[0m\n\u001b[0m\u001b[1;32m    123\u001b[0m \u001b[0mt\u001b[0m\u001b[0;34m.\u001b[0m\u001b[0minorder\u001b[0m\u001b[0;34m(\u001b[0m\u001b[0mt\u001b[0m\u001b[0;34m.\u001b[0m\u001b[0mroot\u001b[0m\u001b[0;34m)\u001b[0m\u001b[0;34m\u001b[0m\u001b[0;34m\u001b[0m\u001b[0m\n",
            "\u001b[0;32m<ipython-input-63-c93deb1f4c22>\u001b[0m in \u001b[0;36mdelete\u001b[0;34m(self, key)\u001b[0m\n\u001b[1;32m     71\u001b[0m \u001b[0;34m\u001b[0m\u001b[0m\n\u001b[1;32m     72\u001b[0m         \u001b[0;32melif\u001b[0m \u001b[0mnode\u001b[0m\u001b[0;34m.\u001b[0m\u001b[0mleft\u001b[0m \u001b[0;32mis\u001b[0m \u001b[0;32mNone\u001b[0m\u001b[0;34m:\u001b[0m \u001b[0;31m#子を1つ持ち、それが右の子である場合\u001b[0m\u001b[0;34m\u001b[0m\u001b[0;34m\u001b[0m\u001b[0m\n\u001b[0;32m---> 73\u001b[0;31m           \u001b[0;32mif\u001b[0m \u001b[0mflag\u001b[0m \u001b[0;34m==\u001b[0m \u001b[0;34m\"left\"\u001b[0m\u001b[0;34m:\u001b[0m\u001b[0;34m\u001b[0m\u001b[0;34m\u001b[0m\u001b[0m\n\u001b[0m\u001b[1;32m     74\u001b[0m             \u001b[0mparent\u001b[0m\u001b[0;34m.\u001b[0m\u001b[0mleft\u001b[0m \u001b[0;34m=\u001b[0m \u001b[0mnode\u001b[0m\u001b[0;34m.\u001b[0m\u001b[0mright\u001b[0m\u001b[0;34m\u001b[0m\u001b[0;34m\u001b[0m\u001b[0m\n\u001b[1;32m     75\u001b[0m           \u001b[0;32melse\u001b[0m\u001b[0;34m:\u001b[0m\u001b[0;34m\u001b[0m\u001b[0;34m\u001b[0m\u001b[0m\n",
            "\u001b[0;31mUnboundLocalError\u001b[0m: local variable 'flag' referenced before assignment"
          ]
        }
      ]
    },
    {
      "cell_type": "markdown",
      "metadata": {
        "id": "3Nq1myB0yX-J"
      },
      "source": [
        "## 演習問題⑥"
      ]
    },
    {
      "cell_type": "markdown",
      "metadata": {
        "id": "u8kOuJ7rK2MT"
      },
      "source": [
        "深さ優先探索と幅優先探索を実装してください。\n",
        "\n",
        "ただし二分木btはタプルで以下のように与えられているとします。"
      ]
    },
    {
      "cell_type": "code",
      "metadata": {
        "id": "agjbX6XR38Ji"
      },
      "source": [
        "#疑似コード（スタックによる二分木の探索）\n",
        "二分木の根をスタック（S）にプッシュする\n",
        "Sが空でないなら以下の処理を繰り返す\n",
        "  Sからデータを1つポップする\n",
        "  ポップしたデータを出力する\n",
        "  ポップしたデータに左の子があれば、その節点の値をSにプッシュする\n",
        "  ポップしたデータに右の子があれば、その節点の値をSにプッシュする"
      ],
      "execution_count": null,
      "outputs": []
    },
    {
      "cell_type": "code",
      "metadata": {
        "id": "-5O-jAUwzjAG",
        "colab": {
          "base_uri": "https://localhost:8080/",
          "height": 153
        },
        "outputId": "0cc03a2b-31b4-4f09-9a0c-e0a9e7403943"
      },
      "source": [
        "from collections import deque\n",
        "\n",
        "def dfs(t):\n",
        "  s = deque()\n",
        "  s.append(t)\n",
        "  while len(s) > 0:\n",
        "    l, p, r = s.pop()\n",
        "    print(p)\n",
        "    if len(l) > 0:\n",
        "      s.append(l)\n",
        "    if len(r) > 0:\n",
        "      s.append(r)\n",
        "      \n",
        "bt = ((((),\"A3\",()),\"A2\",((),\"B3\",())),\"A1\",(((),\"C3\",()),\"B2\",((),\"D3\",())))\n",
        "print(\"深さ優先探索\")\n",
        "dfs(bt)"
      ],
      "execution_count": null,
      "outputs": [
        {
          "output_type": "stream",
          "text": [
            "深さ優先探索\n",
            "A1\n",
            "B2\n",
            "D3\n",
            "C3\n",
            "A2\n",
            "B3\n",
            "A3\n"
          ],
          "name": "stdout"
        }
      ]
    },
    {
      "cell_type": "code",
      "metadata": {
        "id": "VUG-rJ6N37za"
      },
      "source": [
        "#疑似コード（キューによる二分木の探索）\n",
        "二分木の根をキュー（Q）にエンキューする\n",
        "Qが空でないなら以下の処理を繰り返す\n",
        "  Qからデータを1つデキューする\n",
        "  デキューしたデータを出力する\n",
        "  デキューしたデータに左の子があれば、その節点の値をQにエンキューする\n",
        "  デキューしたデータに右の子があれば、その節点の値をQにエンキューする"
      ],
      "execution_count": null,
      "outputs": []
    },
    {
      "cell_type": "code",
      "metadata": {
        "id": "yLJZawZB3Yuo",
        "outputId": "13383cb1-6529-4a1e-a475-ad9e9be6f035",
        "colab": {
          "base_uri": "https://localhost:8080/",
          "height": 161
        }
      },
      "source": [
        "from collections import deque\n",
        "    \n",
        "def bfs(t):\n",
        "  q = deque()\n",
        "  q.append(t)\n",
        "  while len(q) > 0:\n",
        "    l, p, r = q.popleft()\n",
        "    print(p)\n",
        "    if len(l) > 0:\n",
        "      q.append(l)\n",
        "    if len(r) > 0:\n",
        "      q.append(r)\n",
        "      \n",
        "bt = ((((),\"A3\",()),\"A2\",((),\"B3\",())),\"A1\",(((),\"C3\",()),\"B2\",((),\"D3\",())))\n",
        "print(\"幅優先探索\")\n",
        "bfs(bt)"
      ],
      "execution_count": null,
      "outputs": [
        {
          "output_type": "stream",
          "text": [
            "幅優先探索\n",
            "A1\n",
            "A2\n",
            "B2\n",
            "A3\n",
            "B3\n",
            "C3\n",
            "D3\n"
          ],
          "name": "stdout"
        }
      ]
    },
    {
      "cell_type": "markdown",
      "metadata": {
        "id": "jx-eB-Qlyiei"
      },
      "source": [
        "## 演習問題⑦"
      ]
    },
    {
      "cell_type": "markdown",
      "metadata": {
        "id": "RDl03wy8K3KX"
      },
      "source": [
        "配列 [17, 11, 12, 5, 14, 9, 6, 16, 4, 10, 1, 19, 13, 15, 0, 2, 3, 18, 7, 8] からmin-ヒープを構築するプログラムを作成してください。"
      ]
    },
    {
      "cell_type": "code",
      "metadata": {
        "id": "_wYOxWS4jwQi"
      },
      "source": [
        "#疑似コード（min-ヒープの構築）\n",
        "子を持つ節点すべてに以下の処理をボトムアップに行う\n",
        "min_heapifyによって節点を左右の子と比較してmin-ヒープが成り立っているか確認する\n",
        "  成り立っていないなら\n",
        "    最小値の子と親の値を交換する\n",
        "    交換前は最小値があった節点においてmin_heapifyを再帰的に行う"
      ],
      "execution_count": null,
      "outputs": []
    },
    {
      "cell_type": "code",
      "metadata": {
        "id": "FCQBs8cFBgnL",
        "outputId": "087382ac-19c6-4e4c-974e-4f904f61d471",
        "colab": {
          "base_uri": "https://localhost:8080/",
          "height": 35
        }
      },
      "source": [
        "def build_min_heap(arr):\n",
        "  for i in reversed(range(len(arr)//2)):\n",
        "    min_heapify(arr, i)\n",
        "    \n",
        "def min_heapify(arr, i):\n",
        "  left = 2 * i + 1\n",
        "  right = 2 * i + 2\n",
        "  length = len(arr)-1\n",
        "  smallest = i\n",
        "  #最小値の位置を特定\n",
        "  if left <= length and arr[i] > arr[left]:\n",
        "    smallest = left\n",
        "  if right <= length and arr[smallest] > arr[right]:\n",
        "    smallest = right\n",
        "  #min-ヒープが成立していないとき、親子を交換して再帰的にmin-ヒープを構築\n",
        "  if smallest != i:\n",
        "    arr[i], arr[smallest] = arr[smallest], arr[i]\n",
        "    min_heapify(arr, smallest)\n",
        "\n",
        "org_list =  [17, 11, 12, 5, 14, 9, 6, 16, 4, 10, 1, 19, 13, 15, 0, 2, 3, 18, 7, 8] \n",
        "build_min_heap(org_list)\n",
        "print(org_list)"
      ],
      "execution_count": null,
      "outputs": [
        {
          "output_type": "stream",
          "text": [
            "[0, 1, 6, 2, 8, 9, 12, 3, 4, 10, 14, 19, 13, 15, 17, 16, 5, 18, 7, 11]\n"
          ],
          "name": "stdout"
        }
      ]
    },
    {
      "cell_type": "markdown",
      "metadata": {
        "id": "JFZAVOPQcENJ"
      },
      "source": [
        "## 演習問題⑧"
      ]
    },
    {
      "cell_type": "markdown",
      "metadata": {
        "id": "v8UDo_HpcFld"
      },
      "source": [
        "配列 [17, 11, 12, 5, 14, 9, 6, 16, 4, 10, 1, 19, 13, 15, 0, 2, 3, 18, 7, 8] をヒープソートによって小さい順に並べ替えてください。"
      ]
    },
    {
      "cell_type": "code",
      "metadata": {
        "id": "9Cb2LxZps5pQ"
      },
      "source": [
        "#疑似コード（ヒープソート）\n",
        "以下の操作を配列の要素の数だけ繰り返す\n",
        "①min-ヒープの構築によって最小値を配列の先頭に移動する\n",
        "②先頭の要素を除いた配列に対してこの処理を繰り返す"
      ],
      "execution_count": null,
      "outputs": []
    },
    {
      "cell_type": "code",
      "metadata": {
        "id": "izOK2KH6I-sA"
      },
      "source": [
        "#ヒープソート\n",
        "def heap_sort(arr):\n",
        "  sorted_arr = []\n",
        "  for _ in range(len(arr)):\n",
        "    build_min_heap(arr)\n",
        "    arr[0], arr[-1] = arr[-1], arr[0] #popするために最小値を末尾と交換\n",
        "    sorted_arr.append(arr.pop())\n",
        "    \n",
        "  return sorted_arr\n",
        "\n",
        "org_list = [17, 11, 12, 5, 14, 9, 6, 16, 4, 10, 1, 19, 13, 15, 0, 2, 3, 18, 7, 8] \n",
        "\n",
        "print(heap_sort(org_list))"
      ],
      "execution_count": null,
      "outputs": []
    },
    {
      "cell_type": "code",
      "metadata": {
        "id": "HClmvaDDO3I9"
      },
      "source": [
        "#ヒープソート改良版\n",
        "def heap_sort_imp(arr):\n",
        "  build_min_heap(arr)\n",
        "  sorted_arr = []\n",
        "  for _ in range(len(arr)):\n",
        "    arr[0], arr[-1] = arr[-1], arr[0]\n",
        "    sorted_arr.append(arr.pop())\n",
        "    min_heapify(arr, 0)\n",
        "\n",
        "  return sorted_arr\n",
        "\n",
        "org_list = [17, 11, 12, 5, 14, 9, 6, 16, 4, 10, 1, 19, 13, 15, 0, 2, 3, 18, 7, 8] \n",
        "\n",
        "print(heap_sort_imp(org_list))"
      ],
      "execution_count": null,
      "outputs": []
    }
  ]
}